{
  "nbformat": 4,
  "nbformat_minor": 0,
  "metadata": {
    "colab": {
      "name": "2022-06-05-programmers-42839.ipynb",
      "provenance": [],
      "collapsed_sections": []
    },
    "kernelspec": {
      "name": "python3",
      "display_name": "Python 3"
    },
    "language_info": {
      "name": "python"
    }
  },
  "cells": [
    {
      "cell_type": "markdown",
      "source": [
        "---\n",
        "layout: post\n",
        "\n",
        "title: Programmers, 코딩테스트 연습, 완전탐색,  '소수찾기'\n",
        "\n",
        "category: Algorithms\n",
        "---"
      ],
      "metadata": {
        "id": "5L-7urnCWaVV"
      }
    },
    {
      "cell_type": "markdown",
      "source": [
        "### 문제 설명"
      ],
      "metadata": {
        "id": "0JVe-n8aWawi"
      }
    },
    {
      "cell_type": "markdown",
      "source": [
        "한자리 숫자가 적힌 종이 조각이 흩어져있습니다. 흩어진 종이 조각을 붙여 소수를 몇 개 만들 수 있는지 알아내려 합니다.\n",
        "\n",
        "각 종이 조각에 적힌 숫자가 적힌 문자열 numbers가 주어졌을 때, 종이 조각으로 만들 수 있는 소수가 몇 개인지 return 하도록 solution 함수를 완성해주세요."
      ],
      "metadata": {
        "id": "sxZHUvnOWay2"
      }
    },
    {
      "cell_type": "markdown",
      "source": [
        "### 제한사항"
      ],
      "metadata": {
        "id": "7KBs6_GKWa1B"
      }
    },
    {
      "cell_type": "markdown",
      "source": [
        "+ numbers는 길이 1 이상 7 이하인 문자열입니다.\n",
        "+ numbers는 0~9까지 숫자만으로 이루어져 있습니다.\n",
        "+ \"013\"은 0, 1, 3 숫자가 적힌 종이 조각이 흩어져있다는 의미입니다."
      ],
      "metadata": {
        "id": "ECCfg_3iWlPT"
      }
    },
    {
      "cell_type": "markdown",
      "source": [
        "### 입출력 예"
      ],
      "metadata": {
        "id": "QwVdqZckWlRl"
      }
    },
    {
      "cell_type": "markdown",
      "source": [
        "|numbers |return |\n",
        "|-|-|\n",
        "|\"17\" |\t3 |\n",
        "|\"011\" |\t2 |"
      ],
      "metadata": {
        "id": "mkBj6lg8WlTu"
      }
    },
    {
      "cell_type": "markdown",
      "source": [
        "#### 입출력 예 설명"
      ],
      "metadata": {
        "id": "1XhOwoRhWlV_"
      }
    },
    {
      "cell_type": "markdown",
      "source": [
        "예제 #1\n",
        "[1, 7]으로는 소수 [7, 17, 71]를 만들 수 있습니다.\n",
        "\n",
        "예제 #2\n",
        "[0, 1, 1]으로는 소수 [11, 101]를 만들 수 있습니다.\n",
        "\n",
        "+ 11과 011은 같은 숫자로 취급합니다."
      ],
      "metadata": {
        "id": "GCOImTfAWlYD"
      }
    },
    {
      "cell_type": "markdown",
      "source": [
        "---"
      ],
      "metadata": {
        "id": "ax3bGxCeW1cl"
      }
    },
    {
      "cell_type": "markdown",
      "source": [
        "이 문제는 파이썬의 기본 라이브러리로 제공되는 itertools 모듈의 permutaions과, set 자료형을 쓰면 쉽게 풀 수 있는 문제였다."
      ],
      "metadata": {
        "id": "JcLpWHvkXBNr"
      }
    },
    {
      "cell_type": "markdown",
      "source": [
        "코드의 흐름은 다음과 같다.\n",
        "1. 에라스토의 체를 활용해 소수를 판별할 함수 is_prime을 선언한다.\n",
        "2. 입력으로 주어진 numbers로 만든 수 있는 모든 경우를 tmp에 저장한다.\n",
        "3. string으로 저장된 tmp들을 join과 int 함수로 수들의 순열로 변환해 candidates에 저장한다.\n",
        "4. set으로 candidates의 중복을 제거하고, 이 후보들 중 소수의 개수를 찾는다."
      ],
      "metadata": {
        "id": "jntGgV4uXjfP"
      }
    },
    {
      "cell_type": "code",
      "source": [
        "from itertools import permutations\n",
        "\n",
        " # 에라스토의 체를 활용한 소수 판별\n",
        "def is_prime(num):\n",
        "    if num < 2:\n",
        "        return False\n",
        "    for i in range(2, int(num**(0.5)) + 1):\n",
        "        if num % i == 0:\n",
        "            return False\n",
        "    return True\n",
        "\n",
        "\n",
        "def solution(numbers):\n",
        "\n",
        "    tmp = []\n",
        "     # 1 ~ n자리수까지 모두 가능하므로 모든 경우를 구한다.\n",
        "    for n in range(1, len(numbers) + 1):\n",
        "        tmp += list(permutations(numbers, n))\n",
        "\n",
        "     # 문자열 튜플들로 이루어진 리스트 tmp의 값들을 조작한다.    \n",
        "    candidates = []\n",
        "    for t in tmp:\n",
        "        candidates.append(int(''.join(t)))\n",
        "\n",
        "     # set 자료형으로 후보의 중복을 제거하고, 소수를 판별한다.    \n",
        "    answer = 0\n",
        "    for x in set(candidates):\n",
        "        if is_prime(x):\n",
        "            print(x)\n",
        "            answer += 1\n",
        "    print()\n",
        "    \n",
        "    return answer\n",
        "\n",
        "solution(\"011\")"
      ],
      "metadata": {
        "colab": {
          "base_uri": "https://localhost:8080/"
        },
        "id": "Wo_8AwFzW1mU",
        "outputId": "76a3184b-5d94-4e7e-da7c-f307605e3981"
      },
      "execution_count": 3,
      "outputs": [
        {
          "output_type": "stream",
          "name": "stdout",
          "text": [
            "101\n",
            "11\n",
            "\n"
          ]
        },
        {
          "output_type": "execute_result",
          "data": {
            "text/plain": [
              "2"
            ]
          },
          "metadata": {},
          "execution_count": 3
        }
      ]
    },
    {
      "cell_type": "markdown",
      "source": [
        "## 배운점"
      ],
      "metadata": {
        "id": "BXKQjVRBctiL"
      }
    },
    {
      "cell_type": "markdown",
      "source": [
        "가장 좋아요를 많이 받은 풀이를 보고 배웠던 건 set자료형의 연산과 활용이다. 항상 set자료형은 간단히 중복제거에만 쓰고 더 활용 해보지 않았는데 이 풀이는 set 자료형의 연산으로 합집합, 차집합을 활용했다. 그래서 set 자료형의 연산을 정리했다.\n"
      ],
      "metadata": {
        "id": "tc6wfXntcuuf"
      }
    },
    {
      "cell_type": "markdown",
      "source": [
        "1. 합집합 연산\n",
        "  + | 연산자를 통해 A | B 는 합집합을 나타낸다.\n",
        "2. 교집합 연산\n",
        "  + & 연산자를 통해 A & B 는 교집합을 나타낸다.\n",
        "3. 차집합 연산\n",
        "  - \\- 연산자를 통해 A - B 는 차집합을 나타낸다.\n",
        "3. 대칭 차집합 연산(합집합에서 교집합을 뺀것)\n",
        "  + ^ 연산자를 통해 A ^ B 는 대칭 차집합을 나타낸다."
      ],
      "metadata": {
        "id": "c6hIIeS1dNJn"
      }
    }
  ]
}