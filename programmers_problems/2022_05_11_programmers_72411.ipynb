{
  "nbformat": 4,
  "nbformat_minor": 0,
  "metadata": {
    "colab": {
      "name": "2022-05-11-programmers-72411.ipynb",
      "provenance": [],
      "collapsed_sections": []
    },
    "kernelspec": {
      "name": "python3",
      "display_name": "Python 3"
    },
    "language_info": {
      "name": "python"
    }
  },
  "cells": [
    {
      "cell_type": "markdown",
      "source": [
        "---\n",
        "layout: post\n",
        "\n",
        "title: Programmers, 2021 KAKAO BLIND RECRUITMENT 중, '메뉴 리뉴얼'\n",
        "\n",
        "category: Algorithms\n",
        "---"
      ],
      "metadata": {
        "id": "aiBN3b8L-l9V"
      }
    },
    {
      "cell_type": "markdown",
      "source": [
        "# 프로그래머스 문제 중 72411번 '메뉴 리뉴얼'\n",
        "<a href = 'https://programmers.co.kr/learn/courses/30/lessons/72411'>https://programmers.co.kr/learn/courses/30/lessons/72411</a>"
      ],
      "metadata": {
        "id": "nkMHx2Fw-l_y"
      }
    },
    {
      "cell_type": "markdown",
      "source": [
        "### 문제 설명"
      ],
      "metadata": {
        "id": "yXHQPH_d-mCS"
      }
    },
    {
      "cell_type": "markdown",
      "source": [
        "레스토랑을 운영하던 스카피는 코로나19로 인한 불경기를 극복하고자 메뉴를 새로 구성하려고 고민하고 있습니다.\n",
        "기존에는 단품으로만 제공하던 메뉴를 조합해서 코스요리 형태로 재구성해서 새로운 메뉴를 제공하기로 결정했습니다. 어떤 단품메뉴들을 조합해서 코스요리 메뉴로 구성하면 좋을 지 고민하던 \"스카피\"는 이전에 각 손님들이 주문할 때 가장 많이 함께 주문한 단품메뉴들을 코스요리 메뉴로 구성하기로 했습니다.\n",
        "단, 코스요리 메뉴는 최소 2가지 이상의 단품메뉴로 구성하려고 합니다. 또한, 최소 2명 이상의 손님으로부터 주문된 단품메뉴 조합에 대해서만 코스요리 메뉴 후보에 포함하기로 했습니다.\n",
        "\n",
        "예를 들어, 손님 6명이 주문한 단품메뉴들의 조합이 다음과 같다면,\n",
        "(각 손님은 단품메뉴를 2개 이상 주문해야 하며, 각 단품메뉴는 A ~ Z의 알파벳 대문자로 표기합니다.)"
      ],
      "metadata": {
        "id": "nYvm9Gzb--Zt"
      }
    },
    {
      "cell_type": "markdown",
      "source": [
        "|   손님번호  |주문한 단품메뉴 조합     |\n",
        "|-------------|-------------------------|\n",
        "|1번손님 |A, B, C, F, G|\n",
        "|2번손님 |A, C |\n",
        "|3번손님 |C, D, E|\n",
        "|4번손님 |A, C, D, E|\n",
        "|5번손님 |B, C, F, G |\n",
        "|6번손님 |A, C, D, E, H |\n"
      ],
      "metadata": {
        "id": "RskzqFn7--cM"
      }
    },
    {
      "cell_type": "markdown",
      "source": [
        "가장 많이 함께 주문된 단품메뉴 조합에 따라 \"스카피\"가 만들게 될 코스요리 메뉴 구성 후보는 다음과 같습니다."
      ],
      "metadata": {
        "id": "-a2dFrBi--ep"
      }
    },
    {
      "cell_type": "markdown",
      "source": [
        "| 코스 종류 |메뉴 구성  | 설명  |\n",
        "|-----------|-----------|-------|\n",
        "|요리 2개 코스| A, C | \t1번, 2번, 4번, 6번 손님으로부터 총 4번 주문됐습니다. |\n",
        "|요리 3개 코스| C, D, E | 3번, 4번, 6번 손님으로부터 총 3번 주문됐습니다. |\n",
        "|요리 4개 코스|B, C, F, G  | 1번, 5번 손님으로부터 총 2번 주문됐습니다. |\n",
        "|요리 4개 코스| A, C, D, E\t |4번, 6번 손님으로부터 총 2번 주문됐습니다.  |\n",
        "\n"
      ],
      "metadata": {
        "id": "4mPtuXIQ--hW"
      }
    },
    {
      "cell_type": "markdown",
      "source": [
        "### [문제]"
      ],
      "metadata": {
        "id": "ilFnmPdV--j3"
      }
    },
    {
      "cell_type": "markdown",
      "source": [
        "각 손님들이 주문한 단품메뉴들이 문자열 형식으로 담긴 배열 orders, \"스카피\"가 추가하고 싶어하는 코스요리를 구성하는 단품메뉴들의 갯수가 담긴 배열 course가 매개변수로 주어질 때, \"스카피\"가 새로 추가하게 될 코스요리의 메뉴 구성을 문자열 형태로 배열에 담아 return 하도록 solution 함수를 완성해 주세요."
      ],
      "metadata": {
        "id": "ahQWotGc--mK"
      }
    },
    {
      "cell_type": "markdown",
      "source": [
        "### [제한사항]"
      ],
      "metadata": {
        "id": "IiSp79L4_95h"
      }
    },
    {
      "cell_type": "markdown",
      "source": [
        "+ orders 배열의 크기는 2 이상 20 이하입니다.\n",
        "+ orders 배열의 각 원소는 크기가 2 이상 10 이하인 문자열입니다.\n",
        "  +  각 문자열은 알파벳 대문자로만 이루어져 있습니다.\n",
        "  +  각 문자열에는 같은 알파벳이 중복해서 들어있지 않습니다.\n",
        "+ course 배열의 크기는 1 이상 10 이하입니다.\n",
        "  +  course 배열의 각 원소는 2 이상 10 이하인 자연수가 오름차순으로 정렬되어 있습니다.\n",
        "  + course 배열에는 같은 값이 중복해서 들어있지 않습니다.\n",
        "+ 정답은 각 코스요리 메뉴의 구성을 문자열 형식으로 배열에 담아 사전 순으로 오름차순 정렬해서 return 해주세요.\n",
        "  +  배열의 각 원소에 저장된 문자열 또한 알파벳 오름차순으로 정렬되어야 합니다.\n",
        "  +  만약 가장 많이 함께 주문된 메뉴 구성이 여러 개라면, 모두 배열에 담아 return 하면 됩니다.\n",
        "  +  orders와 course 매개변수는 return 하는 배열의 길이가 1 이상이 되도록 주어집니다."
      ],
      "metadata": {
        "id": "mRsSppsz_97t"
      }
    },
    {
      "cell_type": "markdown",
      "source": [
        "### [입출력 예]"
      ],
      "metadata": {
        "id": "0Lv_ylIH_999"
      }
    },
    {
      "cell_type": "markdown",
      "source": [
        "|orders  |\tcourse  | result |\n",
        "|--|--|--|\n",
        "| [\"ABCFG\", \"AC\", \"CDE\", \"ACDE\", \"BCFG\", \"ACDEH\"] | \t[2,3,4] | [\"AC\", \"ACDE\", \"BCFG\", \"CDE\"] |\n",
        "| [\"ABCDE\", \"AB\", \"CD\", \"ADE\", \"XYZ\", \"XYZ\", \"ACD\"] |[2,3,5]  |  [\"ACD\", \"AD\", \"ADE\", \"CD\", \"XYZ\"]|\n",
        "| [\"XYZ\", \"XWY\", \"WXA\"] | \t[2,3,4]\t |[\"WX\", \"XY\"]  |"
      ],
      "metadata": {
        "id": "eLrJb95M_-Ae"
      }
    },
    {
      "cell_type": "markdown",
      "source": [
        "### 입출력 예에 대한 설명"
      ],
      "metadata": {
        "id": "ZMWUt4lOAuSh"
      }
    },
    {
      "cell_type": "markdown",
      "source": [
        "#### 입출력 예 #1\n",
        "문제의 예시와 같습니다."
      ],
      "metadata": {
        "id": "XG3gyYzgAuUz"
      }
    },
    {
      "cell_type": "markdown",
      "source": [
        "#### 입출력 예 #2\n",
        "AD가 세 번, CD가 세 번, ACD가 두 번, ADE가 두 번, XYZ 가 두 번 주문됐습니다.\n",
        "요리 5개를 주문한 손님이 1명 있지만, 최소 2명 이상의 손님에게서 주문된 구성만 코스요리 후보에 들어가므로, 요리 5개로 구성된 코스요리는 새로 추가하지 않습니다."
      ],
      "metadata": {
        "id": "sAZkaPRqAuXL"
      }
    },
    {
      "cell_type": "markdown",
      "source": [
        "#### 입출력 예 #3\n",
        "WX가 두 번, XY가 두 번 주문됐습니다.\n",
        "3명의 손님 모두 단품메뉴를 3개씩 주문했지만, 최소 2명 이상의 손님에게서 주문된 구성만 코스요리 후보에 들어가므로, 요리 3개로 구성된 코스요리는 새로 추가하지 않습니다.\n",
        "또, 단품메뉴를 4개 이상 주문한 손님은 없으므로, 요리 4개로 구성된 코스요리 또한 새로 추가하지 않습니다."
      ],
      "metadata": {
        "id": "PgEFe377AzBw"
      }
    },
    {
      "cell_type": "markdown",
      "source": [
        "---"
      ],
      "metadata": {
        "id": "B_kKXa4IA4F-"
      }
    },
    {
      "cell_type": "markdown",
      "source": [
        "이 문제는 문제의 방향성을 잡고나서 해결하기에는 오래 걸리지 않았으나, 어떤식으로 문제를 해결할지 고민하는 시간이 길었다.   \n",
        "  \n",
        "  어떤식으로 접근해야 최적일지 꽤나 오래 고민했는데 딱히 최적이라고 할만한 방법은 없고 브루트포스로 가능한 모든 메뉴조합을 combinations 모듈을 통헤 후보를 만들고, 모든 후보들을 counter 모듈로 세주었다."
      ],
      "metadata": {
        "id": "1uqOTadZA4xn"
      }
    },
    {
      "cell_type": "markdown",
      "source": [
        "코드의 흐름은 다음과 같다.\n",
        "1. 입력으로 주어진 oreders 와 course를 쪼개고, 각각의 손님이 메뉴를 시킨 조합 order 중 c개를 뽑아 combinations 모듈을 통해 조합하고, candidates에 저장한다.\n",
        "\n",
        "2. 모든 손님들의 주문중 c개를 뽑은 조합을 모두 candidates 에 저장한다.\n",
        "\n",
        "3. Counter 모듈로 candidates를 센 값을 candidates_cnt에 저장한다.\n",
        "\n",
        "4. candidates_cnt 중 가장 갯수가 많은 tmp[max_cnt]를 answer에 저장한다."
      ],
      "metadata": {
        "id": "S690wq-UA45S"
      }
    },
    {
      "cell_type": "code",
      "source": [
        "from collections import Counter, defaultdict\n",
        "from itertools import combinations\n",
        "\n",
        "\n",
        "def solution(orders, course):\n",
        "    answer = []\n",
        "\n",
        "     # couser 원소값 중 c개 만큼 뽑아 조합한다.\n",
        "    for c in course:\n",
        "        candidates = []\n",
        "\n",
        "         # 손님이 주문한 메뉴중 c개를 뽑아 candidates 에 저장한다.\n",
        "        for order in orders:\n",
        "            order = sorted(order)\n",
        "\n",
        "             # 모든 손님들의 주문에 대한 조합을 나타낸다.\n",
        "            candidates += list(combinations(order, c))\n",
        "\n",
        "         # Counter 모듈을 활용해 각각의 조합이 몇번 나타날 수 있는지 세준다.\n",
        "        candidates_cnt = Counter(candidates)\n",
        "\n",
        "         # 갯수가 가장 많은 것만을 answer에 더해준다.\n",
        "        max_cnt = 0\n",
        "        tmp = defaultdict(list)\n",
        "        for candidate, cnt in candidates_cnt.items():\n",
        "            tmp[cnt].append(''.join(candidate))\n",
        "            max_cnt = max(max_cnt, cnt)\n",
        "        print(tmp)\n",
        "        print()\n",
        "        answer += tmp[max_cnt] if max_cnt > 1 else []\n",
        "    answer.sort()\n",
        "    return answer\n",
        "\n",
        "\n",
        "solution([\"ABCFG\", \"AC\", \"CDE\", \"ACDE\", \"BCFG\", \"ACDEH\"], [2,3,4])"
      ],
      "metadata": {
        "colab": {
          "base_uri": "https://localhost:8080/"
        },
        "id": "LPK75SMlA5VD",
        "outputId": "859a59b6-64ef-4382-b745-fb2deaca4b2e"
      },
      "execution_count": 4,
      "outputs": [
        {
          "output_type": "stream",
          "name": "stdout",
          "text": [
            "defaultdict(<class 'list'>, {1: ['AB', 'AF', 'AG', 'AH', 'CH', 'DH', 'EH'], 4: ['AC'], 2: ['BC', 'BF', 'BG', 'CF', 'CG', 'FG', 'AD', 'AE'], 3: ['CD', 'CE', 'DE']})\n",
            "\n",
            "defaultdict(<class 'list'>, {1: ['ABC', 'ABF', 'ABG', 'ACF', 'ACG', 'AFG', 'ACH', 'ADH', 'AEH', 'CDH', 'CEH', 'DEH'], 2: ['BCF', 'BCG', 'BFG', 'CFG', 'ACD', 'ACE', 'ADE'], 3: ['CDE']})\n",
            "\n",
            "defaultdict(<class 'list'>, {1: ['ABCF', 'ABCG', 'ABFG', 'ACFG', 'ACDH', 'ACEH', 'ADEH', 'CDEH'], 2: ['BCFG', 'ACDE']})\n",
            "\n"
          ]
        },
        {
          "output_type": "execute_result",
          "data": {
            "text/plain": [
              "['AC', 'ACDE', 'BCFG', 'CDE']"
            ]
          },
          "metadata": {},
          "execution_count": 4
        }
      ]
    }
  ]
}