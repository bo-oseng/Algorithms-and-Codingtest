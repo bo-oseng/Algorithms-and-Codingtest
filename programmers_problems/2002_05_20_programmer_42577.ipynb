{
  "nbformat": 4,
  "nbformat_minor": 0,
  "metadata": {
    "colab": {
      "name": "2002-05-20-programmer-42577.ipynb",
      "provenance": [],
      "collapsed_sections": []
    },
    "kernelspec": {
      "name": "python3",
      "display_name": "Python 3"
    },
    "language_info": {
      "name": "python"
    }
  },
  "cells": [
    {
      "cell_type": "markdown",
      "source": [
        "---\n",
        "layout: post\n",
        "\n",
        "title: Programmers, 코딩테스트 연습, 해시, '전화번호 목록'\n",
        "\n",
        "category: Algorithms\n",
        "---"
      ],
      "metadata": {
        "id": "4bu5MDb0eAZJ"
      }
    },
    {
      "cell_type": "markdown",
      "source": [
        "# 프로그래머스 문제 중 42577번 '전화번호 목록'\n",
        "<a href = 'https://programmers.co.kr/learn/courses/30/lessons/42577'>https://programmers.co.kr/learn/courses/30/lessons/42577</a>"
      ],
      "metadata": {
        "id": "6DgfngDOeAbY"
      }
    },
    {
      "cell_type": "markdown",
      "source": [
        "### 문제설명"
      ],
      "metadata": {
        "id": "3k_-ujh_eAdk"
      }
    },
    {
      "cell_type": "markdown",
      "source": [
        "전화번호부에 적힌 전화번호 중, 한 번호가 다른 번호의 접두어인 경우가 있는지 확인하려 합니다.\n",
        "전화번호가 다음과 같을 경우, 구조대 전화번호는 영석이의 전화번호의 접두사입니다.\n",
        "\n",
        "+ 구조대 : 119\n",
        "+ 박준영 : 97 674 223\n",
        "+ 지영석 : 11 9552 4421  \n",
        "\n",
        "전화번호부에 적힌 전화번호를 담은 배열 phone_book 이 solution 함수의 매개변수로 주어질 때, 어떤 번호가 다른 번호의 접두어인 경우가 있으면 false를 그렇지 않으면 true를 return 하도록 solution 함수를 작성해주세요."
      ],
      "metadata": {
        "id": "8GYnknePeAf4"
      }
    },
    {
      "cell_type": "markdown",
      "source": [
        "### 제한사항"
      ],
      "metadata": {
        "id": "mskh57npeSjY"
      }
    },
    {
      "cell_type": "markdown",
      "source": [
        "+ phone_book의 길이는 1 이상 1,000,000 이하입니다.\n",
        "  + 각 전화번호의 길이는 1 이상 20 이하입니다.\n",
        "  + 같은 전화번호가 중복해서 들어있지 않습니다."
      ],
      "metadata": {
        "id": "PenbNOJgeSlN"
      }
    },
    {
      "cell_type": "markdown",
      "source": [
        "### 입출력 예"
      ],
      "metadata": {
        "id": "Zm5v6IJ_eSnJ"
      }
    },
    {
      "cell_type": "markdown",
      "source": [
        "|phone_book |\treturn |\n",
        "|-|-|\n",
        "|[\"119\", \"97674223\", \"1195524421\"] | false|\n",
        "|[\"123\",\"456\",\"789\"] |\ttrue |\n",
        "|[\"12\",\"123\",\"1235\",\"567\",\"88\"] | false|"
      ],
      "metadata": {
        "id": "DG2NXNcIeSpW"
      }
    },
    {
      "cell_type": "markdown",
      "source": [
        "### 입출력 예 설명"
      ],
      "metadata": {
        "id": "ciOjMvo9eSrn"
      }
    },
    {
      "cell_type": "markdown",
      "source": [
        "#### 입출력 예 #1\n",
        "앞에서 설명한 예와 같습니다."
      ],
      "metadata": {
        "id": "Z7uh5ApteAiB"
      }
    },
    {
      "cell_type": "markdown",
      "source": [
        "#### 입출력 예 #2\n",
        "한 번호가 다른 번호의 접두사인 경우가 없으므로, 답은 true입니다."
      ],
      "metadata": {
        "id": "RBPuEo-3erDN"
      }
    },
    {
      "cell_type": "markdown",
      "source": [
        "#### 입출력 예 #3\n",
        "첫 번째 전화번호, “12”가 두 번째 전화번호 “123”의 접두사입니다. 따라서 답은 false입니다."
      ],
      "metadata": {
        "id": "rviP0vdBerFd"
      }
    },
    {
      "cell_type": "markdown",
      "source": [
        "---"
      ],
      "metadata": {
        "id": "iO0JDFwUewcL"
      }
    },
    {
      "cell_type": "markdown",
      "source": [
        "해시로 접근해야 효율성 테스트에서 통과할 수 있었던 문제였다. 아무래도 단원 이름에 해쉬가 없었다면 헤맸을것 같은 문제이다."
      ],
      "metadata": {
        "id": "HNBtqJB4eweE"
      }
    },
    {
      "cell_type": "markdown",
      "source": [
        "코드의 구성은 다음과 같다.  \n",
        "1. 입력으로 주어진 phone_book을 키로 가지는 해쉬를 선언한다.\n",
        "2. 입력으로 주어진 phone_book의 원소를 각 phone_num이라 할때 phone_num 을 한글자씩 꺼내 tmp에 더해나가며 tmp가 해쉬테이블의 키로 존재하는지 비교하고, tmp가 phone_num 자체가 아니라면 해당 해쉬테이블의 키가 tmp를 접두어로 가지므로 False 를 반환한다.\n",
        "3. 모든 스캔을 종료하면 접두어가 없으므로 True를 반환한다."
      ],
      "metadata": {
        "id": "Q1dpOUsle8T2"
      }
    },
    {
      "cell_type": "code",
      "source": [
        "def solution(phone_book):\n",
        "    d = {phone_num:1 for phone_num in phone_book}\n",
        "    for phone_num in phone_book:\n",
        "        tmp = ''\n",
        "        for num in phone_num:\n",
        "            tmp += num\n",
        "            if tmp in d.keys() and tmp != phone_num:\n",
        "                return False\n",
        "    return True"
      ],
      "metadata": {
        "id": "gNfr1AanezHw"
      },
      "execution_count": null,
      "outputs": []
    }
  ]
}