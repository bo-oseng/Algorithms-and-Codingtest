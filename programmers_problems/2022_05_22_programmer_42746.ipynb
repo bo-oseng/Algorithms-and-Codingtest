{
  "nbformat": 4,
  "nbformat_minor": 0,
  "metadata": {
    "colab": {
      "name": "2022-05-22-programmer-42746.ipynb",
      "provenance": [],
      "collapsed_sections": []
    },
    "kernelspec": {
      "name": "python3",
      "display_name": "Python 3"
    },
    "language_info": {
      "name": "python"
    }
  },
  "cells": [
    {
      "cell_type": "markdown",
      "source": [
        "---\n",
        "layout: post\n",
        "\n",
        "title: Programmers, 코딩테스트 연습, 스택/큐,  '가장 큰 수'\n",
        "\n",
        "category: Algorithms\n",
        "---"
      ],
      "metadata": {
        "id": "AwQKZXs8Mu7K"
      }
    },
    {
      "cell_type": "markdown",
      "source": [
        "# 프로그래머스 문제 중 42746번 '가장 큰 수'\n",
        "<a href = 'https://programmers.co.kr/learn/courses/30/lessons/42746'>https://programmers.co.kr/learn/courses/30/lessons/42746</a>"
      ],
      "metadata": {
        "id": "o146iVlyMvJt"
      }
    },
    {
      "cell_type": "markdown",
      "source": [
        "### 문제 설명"
      ],
      "metadata": {
        "id": "GyJCrQ68MvL5"
      }
    },
    {
      "cell_type": "markdown",
      "source": [
        "0 또는 양의 정수가 주어졌을 때, 정수를 이어 붙여 만들 수 있는 가장 큰 수를 알아내 주세요.\n",
        "\n",
        "예를 들어, 주어진 정수가 [6, 10, 2]라면 [6102, 6210, 1062, 1026, 2610, 2106]를 만들 수 있고, 이중 가장 큰 수는 6210입니다.\n",
        "\n",
        "0 또는 양의 정수가 담긴 배열 numbers가 매개변수로 주어질 때, 순서를 재배치하여 만들 수 있는 가장 큰 수를 문자열로 바꾸어 return 하도록 solution 함수를 작성해주세요."
      ],
      "metadata": {
        "id": "lgKXTfrzMvOK"
      }
    },
    {
      "cell_type": "markdown",
      "source": [
        "### 제한사항"
      ],
      "metadata": {
        "id": "1SkX-aG3MvQQ"
      }
    },
    {
      "cell_type": "markdown",
      "source": [
        "+ numbers의 길이는 1 이상 100,000 이하입니다.\n",
        "+ numbers의 원소는 0 이상 1,000 이하입니다.\n",
        "+ 정답이 너무 클 수 있으니 문자열로 바꾸어 return 합니다."
      ],
      "metadata": {
        "id": "kexdIIKuMvSZ"
      }
    },
    {
      "cell_type": "markdown",
      "source": [
        "### 입출력 예"
      ],
      "metadata": {
        "id": "77H6Rn1GMvUf"
      }
    },
    {
      "cell_type": "markdown",
      "source": [
        "|numbers |\treturn |\n",
        "|-|-|\n",
        "|[6, 10, 2] |\t\"6210\" |\n",
        "|[3, 30, 34, 5, 9] |\"9534330\" |"
      ],
      "metadata": {
        "id": "YyqVMnYwMvWv"
      }
    },
    {
      "cell_type": "markdown",
      "source": [
        "---"
      ],
      "metadata": {
        "id": "COYvRxDRMvZF"
      }
    },
    {
      "cell_type": "markdown",
      "source": [
        "#### Try1"
      ],
      "metadata": {
        "id": "z-_crXJLPoJf"
      }
    },
    {
      "cell_type": "markdown",
      "source": [
        "처음 문제에 접근할때는 단순하게 모든 경우를 따져 보면 될것 같아서 itertools 모듈의 permutations으로 문제에 접근했으나 시간초과가 떴다.  \n",
        "  \n",
        "   이 문제를 접하기 전까지만 해도 파이썬 내부모듈의 효율에 대해 확신을 가지고 있었다.  \n",
        "\n",
        " 하지만 검색을 해보니 premutations의 시간 복잡도는 O(n^r)로 알고리즘의 효율을 위해서는 지양해야할 모듈이란걸 알게 되었다.  \n",
        "     \n",
        " [permutation의 시간복잡도 참고](https://stackoverflow.com/questions/58677464/big-o-notation-of-the-permutation-algorithm-in-python-itertools-permutation)"
      ],
      "metadata": {
        "id": "plL0YB8kMvbC"
      }
    },
    {
      "cell_type": "markdown",
      "source": [
        "주어진 numbers를 str로 바꾸고 모든 수열에 대해 최대값을 찾는 식으로 코드를 구현했고, 답을 맞지만 시간초과가 떴다."
      ],
      "metadata": {
        "id": "MV43rhmOMLfX"
      }
    },
    {
      "cell_type": "code",
      "source": [
        "from itertools import permutations\n",
        "\n",
        "\n",
        "def solution(numbers):\n",
        "    max_tmp = 0\n",
        "    candidataes = permutations(map(str,numbers), len(numbers))\n",
        "    # 가능한 모든 경우의 수열에 대해 tmp의 크기를 비교해봄\n",
        "    for candidate in candidataes:\n",
        "        tmp = ''.join(candidate)\n",
        "        max_tmp = max(max_tmp, int(tmp))\n",
        "    return str(max_tmp)\n",
        "\n",
        "solution([6, 10, 2])\n"
      ],
      "metadata": {
        "colab": {
          "base_uri": "https://localhost:8080/",
          "height": 35
        },
        "id": "0zcfzNhENK9T",
        "outputId": "48b0756d-9723-486f-c64f-0c42f4e029ce"
      },
      "execution_count": null,
      "outputs": [
        {
          "output_type": "execute_result",
          "data": {
            "text/plain": [
              "'6210'"
            ],
            "application/vnd.google.colaboratory.intrinsic+json": {
              "type": "string"
            }
          },
          "metadata": {},
          "execution_count": 7
        }
      ]
    },
    {
      "cell_type": "markdown",
      "source": [
        "시간초과를 해결하기 위해서는 단순 비교하는 하드코딩이 아닌 더 효율적인 방법이 필요했다."
      ],
      "metadata": {
        "id": "Qy0_6JLpPrIa"
      }
    },
    {
      "cell_type": "markdown",
      "source": [
        "#### Try2"
      ],
      "metadata": {
        "id": "kLfbb0bkNKJU"
      }
    },
    {
      "cell_type": "markdown",
      "source": [
        "자바스크립트의 기능 중 sort(compare_func)에 쓰이는 비교함수 compare_func 같은 기능이 파이썬에도 있지 않을까 검색을 , functools의 cmp_to_key 모듈로 javascript의 compare_func과 동일한 방법으로 구현이 가능함을 알게되었다.    \n",
        "\n",
        "  cmp_to_key에 대해 간략히 설명하자면 배열에서 차례대로 cmp_to_key(element1, element2)에 두개의 인자가 주어지고, element1과 element2으로 이루어진 return이 True라면 element1과 element2의 위치를 바꾸고 False라면 위치를 바꾸지 않는다.  \n",
        "    \n",
        "그리고 수가 0보다 크면 True를 나타내고, 0이거나 0보다 작으면 False를 나타내는 특성을 이용하면 쉽게 비교함수 cmp_to_key를 다룰 수 있다.\n",
        "  \n",
        "[functools.cmp_to_key 참고자료](https://docs.python.org/ko/3/library/functools.html#functools.cmp_to_key)"
      ],
      "metadata": {
        "id": "eVEQqZXXP9x6"
      }
    },
    {
      "cell_type": "markdown",
      "source": [
        "이 문제에서는 조합시 더 큰 값을 가지게끔 배열을 정렬해야하므로\n",
        "```python\n",
        "   def compare(x, y):\n",
        "        tmp1, tmp2 = int(x + y), int(y + x)\n",
        "        return tmp1 - tmp2\n",
        "```\n",
        "과 같이 비교함수를 구현했다."
      ],
      "metadata": {
        "id": "S3yVHvggOCbP"
      }
    },
    {
      "cell_type": "markdown",
      "source": [
        "비교함수를 통해 새로 만든 배열을 맨끝부터 차례로 이어 붙이면 만들 수 있는 최대의 수를 나타낸다."
      ],
      "metadata": {
        "id": "moRUbchVOcFJ"
      }
    },
    {
      "cell_type": "code",
      "source": [
        "from functools import cmp_to_key\n",
        "\n",
        "\n",
        "def solution(numbers):\n",
        "     # 조합했을 때 더 큰값이 가지는 순으로 정렬\n",
        "    def compare(element1, element2):\n",
        "        tmp1, tmp2 = int(element1 + element2), int(element2 + element1)\n",
        "        return tmp1 - tmp2\n",
        "     # sorted의 key=cmp_to_key(비교함수) 인자를 주면 비교함수를 사용할 수 있다.\n",
        "    str_numbers = sorted(map(str, numbers), key=cmp_to_key(compare))\n",
        "    print(str_numbers)\n",
        "    answer = ''\n",
        "    while str_numbers:\n",
        "        answer += str_numbers.pop()\n",
        "    return str(int(answer))\n",
        "\n",
        "\n",
        "print(solution([9, 8, 98, 89]))\n"
      ],
      "metadata": {
        "id": "WasAMd4RNLer",
        "colab": {
          "base_uri": "https://localhost:8080/"
        },
        "outputId": "5dc31091-edc3-4824-a5e8-8eb1c57ab123"
      },
      "execution_count": 5,
      "outputs": [
        {
          "output_type": "stream",
          "name": "stdout",
          "text": [
            "['8', '89', '98', '9']\n",
            "998898\n"
          ]
        }
      ]
    }
  ]
}