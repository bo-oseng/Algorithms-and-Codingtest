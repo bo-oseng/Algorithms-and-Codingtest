{
  "nbformat": 4,
  "nbformat_minor": 0,
  "metadata": {
    "colab": {
      "name": "2022-05-09-programmers-12973.ipynb",
      "provenance": [],
      "collapsed_sections": []
    },
    "kernelspec": {
      "name": "python3",
      "display_name": "Python 3"
    },
    "language_info": {
      "name": "python"
    }
  },
  "cells": [
    {
      "cell_type": "markdown",
      "source": [
        "---\n",
        "layout: post\n",
        "\n",
        "title: Programmers, 스택, 2017 팁스타운 중 '짝지어 제거하기'\n",
        "\n",
        "category: Algorithms\n",
        "---"
      ],
      "metadata": {
        "id": "pAutGriovgmQ"
      }
    },
    {
      "cell_type": "markdown",
      "source": [
        "# 프로그래머스 문제 중 12973번 '짝지어 제거하기'\n",
        "<a href = 'https://programmers.co.kr/learn/courses/30/lessons/12973'>https://programmers.co.kr/learn/courses/30/lessons/12973</a>"
      ],
      "metadata": {
        "id": "-NnrN9YtvgoY"
      }
    },
    {
      "cell_type": "markdown",
      "source": [
        "### 문제설명"
      ],
      "metadata": {
        "id": "kNhnHqdnvgql"
      }
    },
    {
      "cell_type": "markdown",
      "source": [
        "짝지어 제거하기는, 알파벳 소문자로 이루어진 문자열을 가지고 시작합니다. 먼저 문자열에서 같은 알파벳이 2개 붙어 있는 짝을 찾습니다. 그다음, 그 둘을 제거한 뒤, 앞뒤로 문자열을 이어 붙입니다. 이 과정을 반복해서 문자열을 모두 제거한다면 짝지어 제거하기가 종료됩니다. 문자열 S가 주어졌을 때, 짝지어 제거하기를 성공적으로 수행할 수 있는지 반환하는 함수를 완성해 주세요. 성공적으로 수행할 수 있으면 1을, 아닐 경우 0을 리턴해주면 됩니다.\n",
        "\n",
        "예를 들어, 문자열 S = baabaa 라면\n",
        "\n",
        "b aa baa → bb aa → aa →\n",
        "\n",
        "의 순서로 문자열을 모두 제거할 수 있으므로 1을 반환합니다."
      ],
      "metadata": {
        "id": "Pug85xhsvgs4"
      }
    },
    {
      "cell_type": "markdown",
      "source": [
        "### 제한사항"
      ],
      "metadata": {
        "id": "BP37eb1VvgvI"
      }
    },
    {
      "cell_type": "markdown",
      "source": [
        "+ 문자열의 길이 : 1,000,000이하의 자연수\n",
        "+ 문자열은 모두 소문자로 이루어져 있습니다."
      ],
      "metadata": {
        "id": "RKMeZi5DvgxW"
      }
    },
    {
      "cell_type": "markdown",
      "source": [
        "### 입출력 예"
      ],
      "metadata": {
        "id": "5Zb3qXMlvgzu"
      }
    },
    {
      "cell_type": "markdown",
      "source": [
        "|s        | result|\n",
        "|---------|-------|\n",
        "| baabaa  | 1     | \n",
        "| cdcd    | 0     | "
      ],
      "metadata": {
        "id": "1U7Uok6Tvg1u"
      }
    },
    {
      "cell_type": "markdown",
      "source": [
        "### 입출력 예 설명"
      ],
      "metadata": {
        "id": "b2DVJIq_wqea"
      }
    },
    {
      "cell_type": "markdown",
      "source": [
        "입출력 예 #1\n",
        "위의 예시와 같습니다.\n",
        "입출력 예 #2\n",
        "문자열이 남아있지만 짝지어 제거할 수 있는 문자열이 더 이상 존재하지 않기 때문에 0을 반환합니다.\n",
        "\n",
        "※ 공지 - 2020년 6월 8일 테스트케이스가 추가되었습니다."
      ],
      "metadata": {
        "id": "EuiXJ6BIwqgb"
      }
    },
    {
      "cell_type": "markdown",
      "source": [
        "---"
      ],
      "metadata": {
        "id": "QVER1dauwwIc"
      }
    },
    {
      "cell_type": "markdown",
      "source": [
        "스택의 peak 기능을 활용하면 쉽게 풀 수 있는 문제였다.  \n",
        "  \n",
        "  코드의 흐름은 다음과 같다.\n",
        "  1. 우선적으로 예외처리를 해준다. 문자열의 길이가 홀수개라면 무조건 불가능하므로 바로 0을 return 해준다.\n",
        "  2. 반복문을 진행하는데, 스택이 비어있다면 스택에 스캔중인 문자열의 원소를 넣는다.\n",
        "  3. 스택이 차 있을 때는 스택에 들어있는 가장 마지막 원소와 스캔중인 문자열의 원소가 같다면 스택에서 해당 문자를 제거해주고, 같지 않다면 스택에 집어넣는다.\n",
        "  4. 모든 반복을 종료하고 stk에 문자가 남아있다면 0을 return하고 비어있다면 1을 return 한다."
      ],
      "metadata": {
        "id": "qBDO0NuxwwLG"
      }
    },
    {
      "cell_type": "markdown",
      "source": [
        "이를 코드로 구현하면 다음과 같다."
      ],
      "metadata": {
        "id": "dfA7HnHqyvkV"
      }
    },
    {
      "cell_type": "code",
      "source": [
        "def solution(s):\n",
        "    n = len(s)\n",
        "     # 예외 처리로 조기종료\n",
        "    if n % 2 != 0:\n",
        "        return 0  \n",
        "\n",
        "    stk = []\n",
        "    i = 0\n",
        "    while i < n:\n",
        "        \n",
        "         # 스택이 비었다면 스택에 원소 추가\n",
        "        if not stk:\n",
        "            stk.append(s[i])\n",
        "            i += 1\n",
        "        else:\n",
        "\n",
        "             # 스택의 마지막 원소와 스캔중인 원소가 같다면 짝지어 문자 제거\n",
        "            if stk[-1] == s[i]:\n",
        "                stk.pop()\n",
        "            else:\n",
        "                stk += s[i]\n",
        "            i += 1\n",
        "            \n",
        "    return 1 if not stk else 0\n"
      ],
      "metadata": {
        "id": "3bRuhKXmwxCa"
      },
      "execution_count": null,
      "outputs": []
    }
  ]
}