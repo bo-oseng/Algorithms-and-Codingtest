{
  "nbformat": 4,
  "nbformat_minor": 0,
  "metadata": {
    "colab": {
      "name": "2002-05-18-programmer-64065.ipynb",
      "provenance": [],
      "collapsed_sections": []
    },
    "kernelspec": {
      "name": "python3",
      "display_name": "Python 3"
    },
    "language_info": {
      "name": "python"
    }
  },
  "cells": [
    {
      "cell_type": "markdown",
      "source": [
        "---\n",
        "layout: post\n",
        "\n",
        "title: Programmers, 2019 카카오 개발자 겨울 인턴십\n",
        ", 튜플\n",
        "\n",
        "category: Algorithms\n",
        "---"
      ],
      "metadata": {
        "id": "0PX7DijPSY9_"
      }
    },
    {
      "cell_type": "markdown",
      "source": [
        "# 프로그래머스 문제 중 64065번 '튜플'\n",
        "<a href = 'https://programmers.co.kr/learn/courses/30/lessons/64065'>https://programmers.co.kr/learn/courses/30/lessons/64065</a>"
      ],
      "metadata": {
        "id": "XN04cCa6SZO_"
      }
    },
    {
      "cell_type": "markdown",
      "source": [
        "### 문제설명"
      ],
      "metadata": {
        "id": "K0WIpydPSkiR"
      }
    },
    {
      "cell_type": "markdown",
      "source": [
        "셀수있는 수량의 순서있는 열거 또는 어떤 순서를 따르는 요소들의 모음을 튜플(tuple)이라고 합니다. n개의 요소를 가진 튜플을 n-튜플(n-tuple)이라고 하며, 다음과 같이 표현할 수 있습니다.\n",
        "\n",
        "+ (a1, a2, a3, ..., an)\n",
        "튜플은 다음과 같은 성질을 가지고 있습니다.\n",
        "\n",
        "1. 중복된 원소가 있을 수 있습니다. ex : (2, 3, 1, 2)\n",
        "2. 원소에 정해진 순서가 있으며, 원소의 순서가 다르면 서로 다른 튜플입니다. ex : (1, 2, 3) ≠ (1, 3, 2)\n",
        "3. 튜플의 원소 개수는 유한합니다.\n",
        "원소의 개수가 n개이고, 중복되는 원소가 없는 튜플 (a1, a2, a3, ..., an)이 주어질 때(단, a1, a2, ..., an은 자연수), 이는 다음과 같이 집합 기호 '{', '}'를 이용해 표현할 수 있습니다.\n",
        "\n",
        "+ {{a1}, {a1, a2}, {a1, a2, a3}, {a1, a2, a3, a4}, ... {a1, a2, a3, a4, ..., an}}\n",
        "예를 들어 튜플이 (2, 1, 3, 4)인 경우 이는\n",
        "\n",
        "+ {{2}, {2, 1}, {2, 1, 3}, {2, 1, 3, 4}}\n",
        "와 같이 표현할 수 있습니다. 이때, 집합은 원소의 순서가 바뀌어도 상관없으므로\n",
        "\n",
        "+ {{2}, {2, 1}, {2, 1, 3}, {2, 1, 3, 4}}\n",
        "+ {{2, 1, 3, 4}, {2}, {2, 1, 3}, {2, 1}}\n",
        "+ {{1, 2, 3}, {2, 1}, {1, 2, 4, 3}, {2}}\n",
        "는 모두 같은 튜플 (2, 1, 3, 4)를 나타냅니다.\n",
        "\n",
        "특정 튜플을 표현하는 집합이 담긴 문자열 s가 매개변수로 주어질 때, s가 표현하는 튜플을 배열에 담아 return 하도록 solution 함수를 완성해주세요.\n"
      ],
      "metadata": {
        "id": "f--OGNBcSZRL"
      }
    },
    {
      "cell_type": "markdown",
      "source": [
        "### 제한사항"
      ],
      "metadata": {
        "id": "p90m1awDSZTR"
      }
    },
    {
      "cell_type": "markdown",
      "source": [
        "+ s의 길이는 5 이상 1,000,000 이하입니다.\n",
        "+ s는 숫자와 '{', '}', ',' 로만 이루어져 있습니다.\n",
        "+ 숫자가 0으로 시작하는 경우는 없습니다.\n",
        "+ s는 항상 중복되는 원소가 없는 튜플을 올바르게 표현하고 있습니다.\n",
        "+ s가 표현하는 튜플의 원소는 1 이상 100,000 이하인 자연수입니다.\n",
        "+ return 하는 배열의 길이가 1 이상 500 이하인 경우만 입력으로 주어집니다.\n"
      ],
      "metadata": {
        "id": "mN6iyK6rSZVi"
      }
    },
    {
      "cell_type": "markdown",
      "source": [
        "### 입출력 예"
      ],
      "metadata": {
        "id": "-Gel1YM0SZX-"
      }
    },
    {
      "cell_type": "markdown",
      "source": [
        "| s|result |\n",
        "|-|-|\n",
        "| \"{{2},{2,1},{2,1,3},{2,1,3,4}}\"| [2, 1, 3, 4]|\n",
        "|\"{{1,2,3},{2,1},{1,2,4,3},{2}}\" |[2, 1, 3, 4] |\n",
        "|\"{{20,111},{111}}\" | \t[111, 20]|\n",
        "|\"{{123}}\" |\t[123] |\n",
        "|\"{{4,2,3},{3},{2,3,4,1},{2,3}}\" | [3, 2, 4, 1]|"
      ],
      "metadata": {
        "id": "91vJohf8SZaa"
      }
    },
    {
      "cell_type": "markdown",
      "source": [
        "### 입출력 예에 대한 설명"
      ],
      "metadata": {
        "id": "Mi5Ca0UqSZdA"
      }
    },
    {
      "cell_type": "markdown",
      "source": [
        "#### 입출력 예 #1\n",
        "문제 예시와 같습니다."
      ],
      "metadata": {
        "id": "SvjGBj7VSZfo"
      }
    },
    {
      "cell_type": "markdown",
      "source": [
        "#### 입출력 예 #2\n",
        "문제 예시와 같습니다."
      ],
      "metadata": {
        "id": "J93rKqCDSZh4"
      }
    },
    {
      "cell_type": "markdown",
      "source": [
        "#### 입출력 예 #3\n",
        "(111, 20)을 집합 기호를 이용해 표현하면 {{111}, {111,20}}이 되며, 이는 {{20,111},{111}}과 같습니다."
      ],
      "metadata": {
        "id": "48lFp7nQTTGj"
      }
    },
    {
      "cell_type": "markdown",
      "source": [
        "#### 입출력 예 #4\n",
        "(123)을 집합 기호를 이용해 표현하면 {{123}} 입니다."
      ],
      "metadata": {
        "id": "XveTUzWlTVLm"
      }
    },
    {
      "cell_type": "markdown",
      "source": [
        "#### 입출력 예 #5\n",
        "(3, 2, 4, 1)을 집합 기호를 이용해 표현하면 {{3},{3,2},{3,2,4},{3,2,4,1}}이 되며, 이는 {{4,2,3},{3},{2,3,4,1},{2,3}}과 같습니다."
      ],
      "metadata": {
        "id": "IDf7AJSZTXZK"
      }
    },
    {
      "cell_type": "markdown",
      "source": [
        "---"
      ],
      "metadata": {
        "id": "vEZTlWmBTZx_"
      }
    },
    {
      "cell_type": "markdown",
      "source": [
        "문제를 이해하는데 조금 헤맸던 문제이다. 풀어서 정리하자면 s가 문자열로 주어지는데 s의 원소 {{a1}, {a1, a2}, {a1, a2, a3}, {a1, a2, a3, a4}, ... {a1, a2, a3, a4, ..., an}}를 {a1}, {a1, a2}, {a1, a2, a3} ...등 숫자들의 리스트로 쪼개 원소의 길이 순으로 정렬하면 순서대로 하나씩 새로 추가 되는 원소가 있고, 그 원소를 순서대로 리스트에 저장하면 된다."
      ],
      "metadata": {
        "id": "TLyOLo5UTaoT"
      }
    },
    {
      "cell_type": "markdown",
      "source": [
        "여기까지만 접근하고 코드를 작성했고 코드는 다음과 같다."
      ],
      "metadata": {
        "id": "F2KBviEwhRP2"
      }
    },
    {
      "cell_type": "markdown",
      "source": [
        "### Solve 1"
      ],
      "metadata": {
        "id": "K5ULPErehwwz"
      }
    },
    {
      "cell_type": "code",
      "source": [
        "def solution(s):\n",
        "     # 문자열의 앞뒤의 '{{', '}}'는 제외하고 '},{' 를 기준으로 문자열을 쪼갠다.\n",
        "    k = s[2:-2].split('},{')\n",
        "    \n",
        "    tmps = []\n",
        "    for i in k:\n",
        "         # 'a1, a2, a3' 형태의 문자열을 ','로 쪼개 tmps에 저장한다.\n",
        "        tmps.append(list(map(int, i.split(','))))\n",
        "\n",
        "     # tmps를 길이순으로 정렬한다.\n",
        "    tmps = sorted(tmps, key =lambda x: len(x))\n",
        "\n",
        "     # 새로 추가되는 원소를 찾아 answer에 저장한다.\n",
        "    answer = []\n",
        "    for tmp in tmps:\n",
        "        for t in tmp:\n",
        "            if t not in answer:\n",
        "                answer.append(t)\n",
        "    print(answer)\n",
        "    return answer\n",
        "\n",
        "solution(\"{{4,2,3},{3},{2,3,4,1},{2,3}}\")"
      ],
      "metadata": {
        "colab": {
          "base_uri": "https://localhost:8080/"
        },
        "id": "WMeD05_0Tarm",
        "outputId": "36a8aaf2-6534-423c-a840-0827357517c4"
      },
      "execution_count": 8,
      "outputs": [
        {
          "output_type": "stream",
          "name": "stdout",
          "text": [
            "[3, 2, 4, 1]\n"
          ]
        },
        {
          "output_type": "execute_result",
          "data": {
            "text/plain": [
              "[3, 2, 4, 1]"
            ]
          },
          "metadata": {},
          "execution_count": 8
        }
      ]
    },
    {
      "cell_type": "markdown",
      "source": [
        "![slower.png](data:image/png;base64,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)"
      ],
      "metadata": {
        "id": "k5gAUgRKif4s"
      }
    },
    {
      "cell_type": "markdown",
      "source": [
        "### Solve 2"
      ],
      "metadata": {
        "id": "vPb_IPxLUh8E"
      }
    },
    {
      "cell_type": "markdown",
      "source": [
        "문제를 이해하는데 조금 헤맸던 문제이다. 풀어서 정리하자면 s가 문자열로 주어지는데 s의 원소 {{a1}, {a1, a2}, {a1, a2, a3}, {a1, a2, a3, a4}, ... {a1, a2, a3, a4, ..., an}}를 {a1}, {a1, a2}, {a1, a2, a3} ...등 숫자들의 리스트로 쪼개 원소의 길이 순으로 정렬하면 순서대로 하나씩 새로 추가 되는 원소가 있고, 그 원소를 순서대로 리스트에 저장하면 된다."
      ],
      "metadata": {
        "id": "S082J14DVOxi"
      }
    },
    {
      "cell_type": "markdown",
      "source": [
        "여기서 조금더 생각해보면 결국 원소의 수를 세고, 개수가 많은 순으로 저장해도 똑같은 결과가 나오는 걸 알 수있다. 개수를 세는 Counter모듈을 활용하면 더 빠르게 동작한다."
      ],
      "metadata": {
        "id": "6tF_7_DziROI"
      }
    },
    {
      "cell_type": "code",
      "source": [
        "from collections import Counter\n",
        "\n",
        "def solution(s):\n",
        "    k = s[2:-2].split('},{')\n",
        "    \n",
        "    cnt_elements = Counter()\n",
        "    for i in k:\n",
        "        cnt_elements += Counter(i.split(','))\n",
        "        \n",
        "    answer = []\n",
        "    for e, cnt in cnt_elements.most_common():\n",
        "        answer.append(int(e))\n",
        "    print(answer)\n",
        "    return answer\n",
        "\n",
        "solution(\"{{4,2,3},{3},{2,3,4,1},{2,3}}\")"
      ],
      "metadata": {
        "colab": {
          "base_uri": "https://localhost:8080/"
        },
        "id": "RyN7V-xaUhnu",
        "outputId": "812d9cbd-928b-454a-cbd7-cb08f757e929"
      },
      "execution_count": 9,
      "outputs": [
        {
          "output_type": "stream",
          "name": "stdout",
          "text": [
            "[3, 2, 4, 1]\n"
          ]
        },
        {
          "output_type": "execute_result",
          "data": {
            "text/plain": [
              "[3, 2, 4, 1]"
            ]
          },
          "metadata": {},
          "execution_count": 9
        }
      ]
    },
    {
      "cell_type": "markdown",
      "source": [
        "![FireShot Capture 004 - 코딩테스트 연습 - 튜플 - 프로그래머스 - programmers.co.kr.png](data:image/png;base64,iVBORw0KGgoAAAANSUhEUgAAAUoAAAF7CAIAAAA7bVVaAAAAAXNSR0IArs4c6QAAIABJREFUeF7tvUt0E1e6Nrx1sW6WJVuSL/IlMgYbOuaQExOC6aRNknaSbgxrhdMDpweQQcIgyxPoAf4HWR54MYHBCd9ah5VB4wEwOO1Br7BWh5zu4BM+uz+Cc0EJxE4HOwEbbMuyZdm630rSv3aVJZWkkrQllW7krRFYu/Z+97P3U++uXVXPI+g6+CaCAxAABJ5GBARA76dxWKFPgABGAOgN8wAQeGoREDTufOGp7Rx0DBD4ZSMgaO/+zS8bAeg9IPDUIgD0fmqHFjoGCAC9YQ4AAk8tAkDvp3ZooWOAANAb5gAg8NQiUEB679r73E8z9xBC0X+UP4pKldppt+Uf58KxqVSVtP+tj6T+hWNThCVJaoMyv0wEeKP3rr3PRRFMYHV6emf8NdXAMK3wfuTPcHJmJl8FopQmrwQJ3nO+9jYynlBumnhHAypMi4Dev+/alvfPDXPj5QkUP/TmpChh9k5Db17SfpW26xm93LZwz+IkGgJe6J2mpfQ5OcpqcnqHdlxfqTe2fDUqYLcqOO7bd8rSpgwgJF+f1n51VhzO1H3FiP1Av02FEOWs/vGK5lF0yupDuuGt53pcChQMI/nKRL1xVJipMl5/11NdY6bdStXXfepVVsUpA07V+LDt2MBm7MdF/d9OSBEKdn36ZLeyZmZU+2gCIRRuHV96Xh9cudF+9zzz0/YZQb9yeUpzf1TIRlJ2wdJvUP59UEbx2mOeKnvK6S1UthueUQuFiJzeCKE8GU7OzORBzJ7eJ52/fS84O6heZaduPdV9banV1PTPD6Whw85Dx51bN5q+PR/H/4S28RLgpGNrovHeJ6h2yHLIIP3qrNpsxKV0Y6Zeg+z7q+rlm0LUTdW2Cy2Xi0nvcNO11RcMlADF0TtNwCm5MWw7dlh860h1/IUec7hNIg8Y66fOClGP98ULVo3Evx6hd8tc263TItQZVr+z1dvnf3K58YerrBZ6vAcv2jcvlWcCLzG9mfycKkuzF/zJQ5Z5cS5rfqajzv3YhNrbEHH2ZhrKn+Gp5hjP2bvuo9WXNbX/k5A9huy/G/TPnde537ZKr2h87zw5IKlPLBMfoG5s5ZC29ub7ol9dDP1wWrh33CSeMnz5gQDh6WtzXm2cvRx/wqDr1SGvfTGgN1B2o2613bJbI16daPiaTuyik+4X3t6sVwYESOx3qr77T5UZJ8ZcjrqPzIc6ZcZpdKAPsbN3yoDTNJKa3jWLulq98PZbCuqctV8vXu+0ogR642p9+6dM4gnDl3ELpdCO64/bF+hLQNkdvNE72jOGrsx/02ytMWWiFE34L3N63otzkUQq8PuqdXvbi0xv9jhnlcyzzd7Bzk+ftDLphXUoL6692lU9eUSq/9SkmGyb16+92iO706eypJx/OIO1zrV+fsf32hA126dUf/qkw9T893claNh2dEDw3ceCnce3VEjoNtV++2G1dRohTG/b1sf6H7Sbr/cFFsYb5vXWN3rknx9RuBD17MRS42Lzl5ckPklIedgnm5ObP8517vdSaq3Yttd2bIBN79QBp6f3gJNCATGqclvVM/+lpC86uKqayTbH4U3qkpY6aaqd0lYNmpLpLR2xvdLvTczeCHFfYXPtLq/n8Ubv5Fya6t6bk8lRPidwPnOKzgyHOgd655/Ao3FlpDe7AJveTA3ps73/+akV8UT716NxMODMplffOiLePUVPU5TAjWTM/PumVrTGtlsmJ8MidG3hAMK3puJz1t/3+XzWGuMVhQNRu06Zdzjq8a0mprfv59Oax52uV4eof/WpV99zvv42+qZfuUlnOWFSVJlHKgMz2fROGXC6Vgb9LTUiy4IANQd2v71mkKjvnFBZTAy92x/o1w7UyPwG4Q/9VR0MbvH33gjJl27Uf3c+7t4bTxT6Ypq05s+ruzydXAJ6ZxV5mvU5MfNzoXfOi/M0j8SiHU9gbCp6kzwYw0SiJ2Kh6C29sPFGb+Dh1SZmcS44Y3/zeODBqPaRNsJqzHOa3tF/oHDjNfMBQ9BjVawvyJ/clG3eyGrQuQrjXbG86c2uuNdz6IKZwtegbXrfnXH3Da9JZ1tvvh+MoEqvERZbbv8VL45kv3bs7/dYxpvuX4qLEOhNTMW8pwFHBUWldw4dyIfe1O5Pl3Qzz9w+G7fXFVmcy5oieYl8cU5zValiLc6PDfgeRLeOMIddy5ca5lAaemMQxAMB7SF/815Hiyb8eFyfQImsYUqkd2xxnhgwadWBvRPL9TNtt04jJnvfPR9WD/uEM7LNG9GLJm5le2uNrrZlfKEH6T8ZlLI3z4HelUXvnFM3e0HOOcs4EzLn/XbGJf12/S3jC//mpG+S2Udsa21DfkXrSdpaE/SERSYBxdpsj+5UdX8UmnmftbWG+exYi2RvhGvOmL3ZoXDvDog6UXCelIi4XCK9UcqAI7Um9zGuPbxluBpiZ+/YCiglvZuuLRyoafzsLbmPVVfL+MLz/uZPTsQPQTadK1jZcl+c59dxgVAsQkhVv6cNPZlddyEUokKhDFXywu1U62pO0pL/kSN0fG/cI0288Uv/YGzA89KwWePXTfUro2/opX7OFNpxfblbork9Wm1HgV0jq51+3cRbcm/ymjy2OA/sHKOsn0gdMwLhYc+BkxuBiVbWY/mQ4fryPo107nLDA/YTphTjIugJSTQIvWJ7ow/dH8XPvYOzQspEv8yT4kkeromjj8GWi373pNQxLUQ9/o5TG7uVCvrhX2Rxnp7eneHqo679xy0iY8JGpn/flLnqRlvC/VF+E5evs/mhN7PLzY6J/biLvQGe/lkXU0N0vz1jJzMsCiSNrV1NMlYtXtOPSxvsCy9HC0Wjd/oXV0mzN35Oe9HmTHgYi1C611r6Pb0jZo218fO35F4WAinfEukNdJ2x7tJ7REjsNdXdje2cx99yx+hN7bxu3anxSenXYNaNmrunq1hvfYRbxpd79JTN2DZF8DAJL3173Owwo3cK6V5r4ehjyDC+tkfvpZNslduq+vFKzTLez89Ab9ZrLYqNmbr4vjCbEcg4qForx1cGeaN3MlEI31rLyOFiFsif20y0qahLslsWrYG0sPLi2ss1tf94V5LxvbRiQpm+Ld3Yyo7F5oQN//IJjziScOv4smGxOWHvg/j0QhcsIL0LHTrUH0FAH9Kdorx/lThnKwMTwaDrN6eoB5G34iojaM4ou4O6P4Tcf65yl2Pqxg86QIypgmdXRYY+6Hr5neCjP6vohTEcBUUA6F1QeKFyQKCUCAC9S4k+tA0IFBQBoHdB4YXKAYFSIgD0LiX60DYgUFAEgN4FhRcqBwRKiQDQu5ToQ9uAQEERAHoXFF6oHBAoJQJA71KiD20DAgVFAOhdUHihckCglAgAvUuJPrQNCBQUgQLSGz4p4Rw5wg9FiL8YK+j0gMorGwHe6A02BtGJQM5MsDGobPYgsDHIJHhaMBsDgUyzQ6NTyiUCQSjsd5jNy2ZfJi0HXhQU08ut8SyEjFChbQzipPwRUsSEmYrGTb5sDCIBi0c2+/ttvm1hBrAxyDCQZelSIlU164V2s93tDQur69p2agSriw/NAYI5medX3+TZOzmWbIWQESq4jUGy2gEBhHwW4c/GgIlqwPPSGacIuURYaE3EyDmAjUGaEcuZ3oW1MWBHrGzf1S6zzP245SeaefkzPFUzPGfvgtsYcIiZ0F2rRBsDHHew89N11aTWcXg5opFIX7/AxiA1LxJuvMvGxiAWsUDdsbMNrf7w0EmwPudliZ7DrTgj88Lwn3AJUHgbA5reu5RVQhQI+ZXm6drvPhAHt+ldaTYGCKkurvdqVZ+fEHfEJFDBxoDPxXnRbQwQQtK6jj21nocLJge5YFGeCZyc3mVtY4BQqG6YCt0Ve1FY8Yb9xV6nc7oFaw9VoI0BoxIz94F6dZqtcAw2BnzSm2hxHCnEh42BSNH8K710/fEjohtvpuWcuf202RgkjJZmbPUlfc3kkWp7OqXUsrQx0FO7x9aVk013sZUiB73BxiAVM3O+986K6jkVZrhtXVpcIdk2jzaRM71zCLK8bQziOyQ+t/H7PjG28ktHb3xO2dkY4IDXI2a+0V7VfU17NoCNQSG21nIgQzaniGRNXS1yW/G5nZVSannbGMTjjXfyDBmzN/ucsrEx0Icl3eGIB3Jw15+WG7G7kJiaCO3cpnc0bLAxiBv1sszepeT2U2RjMOR5Vln186TYtxFW/9G+v99OGZuxPnnl2RjEXXRY7kJgY5A5ZZafjQG2FquNC9xH8mAs/2V5mk3vhHV4Kljb/9ZHuHOOCm5jMOR89bitWhLAN6x+pdmovneW9iRIR+/ytDHIkd5gY8A5TeGd82RYCF84J38wRm8Dgo1B5vRToBJgY1AgYKHaKAJgY1CqyQA2BqVCHtotUwTAxqB4A8PbF2PFCxlaAgQAATIEgN5kOEEpQKACEQB6V+CgQciAABkCQG8ynKAUIFCBCAC9K3DQIGRAgAwBoDcZTlAKEKhABIDeFThoEDIgQIYA0JsMJygFCFQgAkDvChw0CBkQIEMA6E2GE5QCBCoQgQLSGz4p4ZwPhF+VEH8xVoGTDkIuFgK80RtsDKJDRs5MsDEo1jwvUDtgY1AyGwMkqetsrJdLJAIBCgddm2tLT1wEKue8fO+dZjbxLIRceBsDhPQh3fDWcz0uBQqGkXxlot44KiwQX7ir5cvGYNh2bGAz1sSi/m8npIzu2m5lzcyo9tEEQijcOr70vD64cqP97vk4C4egX7k8pbk/KmTLccouWPoNyr8PyvA38GV38JO981FrKZhLCZIo64WBTX+ACiGJomFnc61nZW7BTSCEnCfDybN38nTIVgi5CDYGSDdm6jXIvr+qXr4pRN1UbbvQcrmY9ObPxmDYduyw+NaRamcc8GBjkOGylDO9i2djIGls7apzgo1BqpHUja0c0tbefF/0q4uhH04L946bxFOGLz8QoB7vwYs259XG2cvxp1aijUFqeoONQRqKl72NgUCi62zT+kzziyTZOx8h5DQJmWTplm32LryNwbDt6IDgu48FO49vqZDQbar99sNq6zQjxlRpNgZ4ce6kUECMqtxW9cx/Kc14NQ42Bnxm76LaGOCk3SRDCHmtKwtP3NncIOW5RCffaStrGwPxOevv+3w+a43xisKBqF2nzDsc9fhWswJtDNCgv6VGZFkQoObA7rfXDBL1nRMqiwlsDPikN0kSi5bJ28ZAIBSLEKqqbuxoqLYtzy15yZrPmdtPm42B9MLGG72Bh1ebmMW54Iz9zeOBB6PaR1rXq0PUvzgFz1FZ2hgkDHyv59AFMzXR/vVoRCl1xt03vCadbb35fnD/lAlFttZasV6yCCEk+7Vjf7/HMt50/1JcXcqLa692VSfd0pNNtMKWKv3WWmH7F6tdrXu2XbR832wjsiHKmd45dKe8bQzwgtYXM/3FSdu1fKlhDqWhNwah7GwMEkcmsHdiuR6bhCJsITjZfvd8WD3sE87INm+k1DlvGV/oQfpPBqXsSQT0/mnmXg7zntdTML2rVmZNW5kX6Plz+ymyMcB8dqxFsjcasv9uMGP2Zg9c2dgYJMwmvGW4GmJn7/PREmBjEAdWzjvnvBI4oTKFqkHm27L5/UEklCsa25vqqLW5eUcmdvPC7afIxgCFdlxf7pZobo9W21Fg18hqp1838ZbcW3k2BsGWi373pNQxLUQ9/o5TG7uViq/Oqs1GsDHITMPyszGQ17S1aarlVWL8qkLQZd9YfWL3YOva9EfR6J3mLr2cbAwQQr2BrjPWXXqPCIm9prq7sZ3zVPfe5WljEDKMr+3ReyV4/KvcVtWPV2qWP47unLffTZG9wcaAkzDwznkyLIQvnIONQaaLcLn8DjYG5TIST28cYGNQqrEFG4NSIQ/tlikCYGNQvIHh58FY8eKFlgABQIAYAaA3MVRQEBCoNASA3pU2YhAvIECMANCbGCooCAhUGgJA70obMYgXECBGAOhNDBUUBAQqDQGgd6WNGMQLCBAjAPQmhgoKAgKVhgDQu9JGDOIFBIgRAHoTQwUFAYFKQ6CA9IZPSjgnA+FXJfnIrVbaJIR4C4UAb/QGG4PoEJEzE2wMCjWvi1Qv2BiUzsYgOsRVuj2GJunWwj1LvMA15xzg5XvvNLOrfG0MsILSsO23A5t+Y9ut01hdLHakMBIoFouorjHTbqXq6z71KqtJxYj9QL9NhRDlrP7xiubROGk44pHN/n6bb7ubYGOQAbd81FoKZ2OwHbSizdAoD1bLvWT0zl8FmTx7J8OarRAybzYGWCZx0PWbIasKBV2J9OY2EiAlU77l+LMxYCIZ8Lx0xilCLhEWWhMxQshtEnnAWD91Voh6vC9esGok/vWIlGLLHF2sM6x+Z6u3z//kcuMPV1ldwqJO9s1LDXPEF5d88cjifH4W5znTu+A2BsIa3S49tbAm7jIgYnrzwvBUg8Bz9q77aPVlTe3/JJjgYEU0/9x5nfttq/SKxvfOkwOS+sQyCQH2eQ+es0iN9eYuUzMzoSNH3UfmQ50y4zQ60Idi+bMSbQxwj4Kdn66rJrWOw8vbvGV0zhd1tXrh7bcU1Dlrv1683mmNKqVGiiGEsAabeMLw5aiABV5ox/XH7QtJ650sSFi4orzROxriTzP3ovfhjIJiKvIjhKISi5zi52kSOxkiIkXzHo3vp6UNmW5vezHpzQ4vq2Sebfbmy8YAB6w6STmuCjo/fcKa0HRHeim1Vmzbazs2kEDvSrMxQEh1cb1Xq/r8hLgj1k2wMeBzcV40GwOhsr2t3rPyyBxA6mzpnX8Cj0KWkd7lYGMQjRbP9UR6Mz9iReQEevt+Pq153BlRRH7P+frb6Jt+5Sad5YRYhJTsKkxSKqF15N83taI1tt0yOZmo0LWFA4ixBEx54LuPU9TcB+rVaXY3wcaAT3qTDGa0TO42BsLahs4G/6O5LT9C2dM75w22CrUxyI3eFWVjoKd2j60rJ5vunhcw99txi/PJ9rtgY5CCmjnfe2dF9ewKK9t3tasTT3GvLj40E7gAo5zpnV2QdOlysDHgl964trKzMcCbBevKxPGp+7pPqQIbg7TTthzpjURCcXQHRFW/pw09mV13BEOhzC4l+XO78mwMIuOb1eI8VfZmT5aysTHQhyXd4ciMCO7603IjdhcSUxOhndv0joYNNgZxdC9LerMjzOLemxduV56NAc63/SERis57EXIKfdMYREFPSKJB6BXbG33o/ih+8hycFVJ9aUyIAjvHKOsnUseMQHjYc+DkRmCi9avYbnPIcH15n0Y6d7nhAfsJU4oEwt26CQnec7520rE10XjvE1Q7ZDlkkNKeBJFaBjwvDZs1ft1Uv9LGUTPX4jy9S0lnuPqoa/9xiyjxqaF/35S56kYbSyY9hxVcgU7hZ+ec2R5nh8jsnyfvnKe5l46eHj0rY5+JvY3Kkd7lZmOAU1YzG/LF7Z0q7KHV42b9osCWY+k8xsrTxiBuTcFx7w02BhkJxyoA75wno0X4wjnYGGQz0UpZFmwMSon+L6NtsDEo1TiDjUGpkId2yxQBsDEo3sDwdu9dvJChJUAAECBDAOhNhhOUAgQqEAGgdwUOGoQMCJAhAPQmwwlKAQIViADQuwIHDUIGBMgQAHqT4QSlAIEKRADoXYGDBiEDAmQIAL3JcIJSgEAFIgD0rsBBg5ABATIEgN5kOEEpQKACESggveGTEs75QPhVSUYJpwqcbBBysRHgjd5gYxAdOnJmgo1Bsec7z+2BjUHpbAyqtHsM+pi0ntf049KGL+P48iLnkKYVnoWQEQrtuL5Sb2xh6SXg1gXHfftOWdqUAYTk69Par86K06vUSIftB193KSU+ERJRzuqfb9TNXWKkTRiV/2iP6I+9i6zpncJEIVsbgxR9BBuDDKTIR62lcDYGmN5S008rXGodaTuUJ8PJs3dyFNkKIfNmYyAd8up8VZYZkd8fqj25ebAn+HCbxttCoqVTI+HNxiBFH8HGoFD0LqiNQc70zl8FOb0SSxo0s6Y3bzYGcUFFxca2s3fNZHsivSvVxiDazzhBNbAxSDMpE268y8TGANO7URJCAiEKurdMlpUNrIlMduSZwNmNZJXMs6U3nzYG0aBlI7bD/f6Hl+rn8SIcJ7ddyiohCoT8SvN07XcfiIMIIUzvyrMx4Ooj2Bjwmb2LZ2MgU0vCLn8QicR1GkOz0ru0sLiBZybZwRfDM9K7fGwMonJryh8v6+a3dQ5DdcNU6K7Yi8KKN+wv9jqd0y23zwppeleYjQE97sl9BBsDPulNRq7tUrnbGCQ0I2817Kyxz/1rkyyD58ztyrYxoMVSwzV/2HyxWzB7Xrt4I3GwNGOrL+lrJo9U2zG9K8rGINKVpD5GNhfAxiAFNfPZWsuK7bkXFmqanm2jiF0Ec6Z3DhGWlY0BEz+e8YbF1pvvixP6Iz638fs+MTYSTEdvfFLZ2Rgkjky0jwJsIYg3F8LqYZ9wRrZ5I6XOecv4Qg/SfzIoZT+GwEqyXdW3jlQT2EvnMD3yOYWf594VQG9Zs2GXmjB758/tyrUxiNG7w9T893clCZML7+QZMmZv9kllY2PARW+6j6IIvaMlwMYgDqyypLeiRlfl23L6qZBAqta2GdTB1cfYTjDDwQu3K87GINjykTd4R265Iwxrg3Vvb+3v8ZvG9fcvITTkeVZZ9fOk2LcRVv/Rvr/fThmbp06L6HvvVIvz8rQxSNXH5Cd/XPQGGwMWccrAxkCh2bmjVioWChEKBd1b5o3VdV8oE7kRD+5iafbSEtbhqaJp/1tfxg25yLk93hcv2pwJnvLpX2vp9/SOmDXWxs/fknu3qwk1frT5bKdHKaEQfq1FsTxd9/2oEC9Bh5yvHrdVSwLYd8+vNBvV985WUds756noXZ42Bqn6mIHe0Vd6gn7Fxkzd3dN09yOH4Iz9zePIOKhaM2WeW0Uvwc/inDNseOc8GRbCF87BxqDoRMixQbAxyBE4OI0YAbAxIIaK54JgY8AzoFBdpSMANgbFG8ECLs6L1wloCRAABLgQAHrDvAAEnloEgN5P7dBCxwABoDfMAUDgqUUA6P3UDi10DBAAesMcAASeWgSA3k/t0ELHAAGgN8wBQOCpRQDo/dQOLXQMEAB6wxwABJ5aBApIb/ikhHPWEH5VQvzF2FM7NaFj+SPAG73BxiA6GOTMBBuD/GdwSWsAG4PS2RgghITyxvqWRqVMIAiF/VuPl1a2Mn7xzYucQ5o5V542BgleBTh+m7ENyzb0+DuH7Tv0HikKhpF83ahJ+OC5GPTiycYgGqp4ZLO/3+Yztt06LYr4NNTMjGofTSCEwq3jS8/rgys32u+ej4Ml6FcuT2nuM5/BRw7ZBUu/Qfn3QRn7I/BiYELUBj/ZOx+1lsLZGCBF2452lWv5ocXhCSGxRCqhPO6M9OZF5JxwBZ48RNkKIfNmYxAXyoC7b9hhYSQiBt37j4aXb8otdwSSo64XjltE26wgml98FOLNxmA7mAHPS2ecIuQSzcTo3SaRB4z1U2eFqMf74gWrRuJfj9C7ZY4u1hlWv7PV2+d/kqCc0eM9eNG+WXznFiJkS0zvQtoYCJRt+zS++cdrbiIk4gvlmcMr28ZA/ZG5T19z8y1FRMslhk3TtYUD2nosG1ipNgbBzk/XVZNax+Hlbd7SupFgY5CGJGVpY1Cje9YQfrIY1u2oqxaEvQ7r8uKWh1TmPE96s7EivxVni7QQnlUAGwO9/7lxs3SiNcG0jO5S+JnxxedQ0/8MyqjKtDFQXVzv1ao+PyHu+PRJHL0n2xyHN6lLWuqkqXZKWzVoQgnZGyHpiO2Vfm9i9kaI2ygmh5zC/yklyN5FsjEQahqfbVb4/balhS0/kmjaW3SU+ceHTpLVOY0zXwzPSNTysTHA3RaPbP6uH313um7JmDjdBIOuV4bsWzeavj0vqEQbA8Gg6zenqLkP1KvTOGPH07v9gX7tQI3MbxD+0F/VMRWjN8s+Ub50o/6783H33niigBDyzL3cLk252xiItfo9rZK1+cXtxXmNdk+HZHXWtEW0B5IztyvbxoD2G328e6P5H+9KEh1Fe337z61Vz+j/eZo2G604GwM9tXtsXTnZdPc8VoVMpvddsDFIwdF8ttZyoz3BWWrd3nZZzPRXWtuxR2kj8gDmMXUTxInKycYAb6rZN642zV6Oj5zh9nzTF+9HdEIrzsYAB7weMzLe7l/d131KFdgYpJ2nZUlvzGe1M5q9ldo9Owmzd86pOwpSpdoY4E21zuqpfmWcaXKvf9/IWu1iY4zbGbI3e7KUjY2BPizpDjOW5QgFd/1puXGx5fZfxdREaOc2vaNhg41BHN3Lkt5IVNvZ3iywPvx504ukup2tDeG1uXlHprU5L9yuOBsDejjxptqKevoZ/HwoenByOwO9y9PGIO6iw7E4P5+W3mBjwMKvDGwMEEIiqdbQ2FgjEaKwz7GxRLRzXjR6p394lnFDLgI2PzYG0U218P3TmsfsTbVh27GBzbiLuTP6YKyybAxypDfYGHCu3OGd82RYyF93IaY3vXP7ck0tx2YYyY1/icroxlZ2LDZ/PVqi5nlrFmwMeIMSKkqBANgYlGpqgI1BqZCHdssUAbAxKN7A8PNaS/HihZYAAUCAGAGgNzFUUBAQqDQEgN6VNmIQLyBAjADQmxgqKAgIVBoCQO9KGzGIFxAgRgDoTQwVFAQEKg0BoHeljRjECwgQIwD0JoYKCgIClYYA0LvSRgziBQSIEQB6E0MFBQGBSkOggPSGT0o4JwPhVyVZfFJSaXMO4i0aArzRG2wMomNGzkywMSjaRC9MQ2BjUDIbAyzGVBs/qluP7llcGQaal++907RRDBsDLO7XE6//7Gz4/Igidd9T2xhEu4K1ypa6lHVf96lXC0OWlLXyZWOQ8O36ov5vJ6RgY5BxMPNRaymgjQE7bkVbR3vVGplSap4MJ8/eycDyZGMQV3Go4/qzfXMcAAAgAElEQVTjHabW/31fnHEgtwuwbQwi5+jGVp/VC9VKadHpzZ+NwbDt2GExFmmPAwJf2sDGIM3cyJnehbQxYMcrULbua6AePlx1EM7w/BmeqiGes3dmke2Tzt++5310XvfwBmHfUbKNgXjY9tph8fQ0dbgfbdO7Em0MUtMbbAzS0zv6KyPDxPz3J1r/OBX5owWYMuz/MqenSeykM5UpJ65v3qPzzP9r00d6Xp70ZjeTVTLPNntzCxWym28YW3lRqcnCBCvZxgDLpNodf66fa7cdG2DT27b1sf4H7ebrfYGF8YZ5vfWNHjl9C0A9O7HUuNj85SWJTxJSHvbJ5uTmj0mhTyzXS6m1YtteVtO4BE65rXOtn9/xvTZEzfYp1Z8+6TA1//1dSbpm8OLcSaGAGFW5reqZ/1KasakY7VICNgapgcsqexfJxoAVrUT3q2dqbY9/WvFnM8X4YnhGevNvYxDrJlZiW0fcliPcYCTZGISbrpm7NnRY3hzTg01v38+nNY87Xa8O0aJr7zlffxt906/cRFhpVDjRzqfWErtpHLh/39SK1th2y+RkQkLXFg4g5l469THob6kRWRYEqDmw++01g0R954TKYmLoDTYGKXHLit7ZUGw7q3OewiwNCA4sgSw1z65sZhJJZdWVM7fLwsYg2hHphY03equ+HFStmQiAwkUSbQzEI5u/7ZXcebfabkIokd6ppBTDjdfMBwxBj1WxviB/clO2SXxfkDJKXujNrr3Xc+iCmcLXoG16g41BKvALR2/CSZmumKKto6Nq7Ycs7Icq3sYgAgfeVNtpar2Z3aZanI0B9gw0JMLrNLbduuPdTtrJfgZ0cfFAQHvI37zX0aIJPx7X37+U31Am0ju2OKfDwFYEmRfncSEE9k4s12OTUMRk77vnw+phn3BGtnkjpc55y/hCD9J/MihlW7iACRFxps1vDnCcjTfVGtHiw6WtRFOd1E3lnLqjVZbaxoAJBG+quUwJhrX0L4KesMgkoJJSerKNgag3JI5ae7xie6MP3R9Vm6xCf3RNnoLeESzKxsYgYbyxce9qiJ290+uc06fji11N42dvydmbOC3jC8/7mz85kfa2n/eJTVQhP6+1lG/2xptqjb6HMxvELsC8cLvUNgb02DeMrRzU1nL4+A54Xho2a/y6RDcSThsD9jQiXZyXp41BsOWi3z0pdUwLUY+/49TGbqXiq7NqszGyOAcbg9SXjASvv/KwMUB4U01jezyXxaZa0ehdWBsDbEN/cVUwZfjyg4jxTnTw+j29I2aNtfHzt+RsB296Uy3JxiAXelM7r1t3anxSFAwj+bpRc/d0xJkM1xZuGV/u0VM2Y9vUaVHGJJT0io7iwaWGuXF8nmLEfqDfpkKIclb/eEXziP7j9sHRx5BhfG2P3ksn2Sq3VfXjlZplvJ+fgd5gY8A5RvDOeTIshC+cs42+M85/sDHIDFHBSoCNQcGghYq3EQAbg1JNBbAxKBXy0G6ZIgA2BsUbGH621ooXL7QECAACxAgAvYmhgoKAQKUhAPSutBGDeAEBYgSA3sRQQUFAoNIQAHpX2ohBvIAAMQJAb2KooCAgUGkIAL0rbcQgXkCAGAGgNzFUUBAQqDQEgN6VNmIQLyBAjADQmxgqKAgIVBoCBaQ3fFLCORkIvyrJKOFUaTMN4i0BArzRG2wMoqNHzkywMSjBlC9Kk6Ed182aO013zyd9jVuU5iON8EPvfOQcCqhzLlTUthg0NRKhEIW8Duvy4pYnmBFdXr73TtMKz0LItDraSr2x5atR1kwa9D7/R3uDxi1BKOhXLk9p7o8Kt9Vq9CHd8NZzPS4F/TH2ykS9cVSYERRcILWNgXhks7/f5jO23SL4fpuoLeJC4mHbbwc2/QlN9wa6zlh36T0iJLXNa794V5JRZU91zvZ8n13FfKA+rf3qrBjDRdseBOYjAqxY/caicNZjpfQ4R4Qqt6n22w+rrdOxuAVn7G8OCO/0K23EfSlAwaeY3liGqUmysfR42UuJZA0dLbrg2tzPjowjjVCeDCfP3skDmq0QMqO4FJwdVK+ylZWGHS93iWc/kdlnkPKdrd4+j+WGnskkujFTr0H2/VX18k0h6qZq24WWy0T0TmljMOB56YxThFwirFuWWZ6Bx0ksGHT9ZsiqQkFXHL3Dz4wv7avR3B5VOAze/UMWqbE5vW6EYMj+xqDLMtF4778FkqOuF447HDeavj0vwPR+3etG8u9PYC1K9UfmQ93BKqc6Qu9t0VjxgH/3kHmHoz5ebZrqnjDJbrbdjYnA8Nh1wqpKTO9C2hhIazv2KG0/Lm3QulhCTdOzbRSBCREDXP4MTzUAPGfvzDYGtBrJ7g1aJBgLjNmcVxtnLxPOj+1iHDYG278EOz9dV01qHYeXW+YYeuPmtBt1NYZNsbX+/oJnX4+HMtVPDcqwMow+1HjO+u+dTglCYSTfnNbePkvsnZIQcp/34DmL1Fhv7jI1bzdNl+j3vDSy6fy4+WfDRse89mHn2qt7Ff8PyzOnPHRjK4f0tVGTphik2PZA9LPDUTWtv/ch1T1hEy0GDfrqBHrj6XIRt5IgbqUbW+mVaG+ciNNdzA73fEvzRu9oIOVjYyBp+NUzys3HD1f9CAlr2tubw6vzi+4QEWR50pvdRlbJPNvsndnGACGqe2KpeZ7WSx22HR0QfPexYOfxLRUSJi8pubHhtDGgi6ourvdqVZ+fEHd8+oRN746N5okrwf0jZuV8y+R/UwdGnJYP6+c/Roze0+zlusc3kaiXav039HC0imhAuAqpTlKOq4LOWNN0IbxsDhkH69DFhZ2mtikshE7NjGofYccC7gPTW1sXFUjE9O5U4isC7WoyOUkd6pJ/dsfff1T07YLjUFcSvTup3f/H1JmYvZH4nPX3vZL0V5ac+052Im/0TtZCTbVzXkQbA4FU19nSJMeLT+/WysKim2BlHsWNL4ZnpHchbQwQZlR/P/Xzpfr5cXrC9fl81hrjFYUDUbtOJS8pk6dNChsDhPDa+BQ194F6dRpnbDa964yGLz8IRQSGqe4JC/pL0+xlOst1VU8eqbaTTU+CUuymcXFa2l38NS2NjEPCgs2u5Yg8G2eF9EWHmr9c/+AqEg14//3MarOEdkpkTIveFe8e9wbmXXKTfla5/mqM3rEFAWWt/2K02maMrz5RvJmgNzwXKQG9s+pBgkIj+9yM4sqyhu4WlXP1ybInKJRo2lvq/Kb5hUJn7/KyMaDvTu2uG9tbuPTUDzy8ipmG5ZDP2N88HniQNrOltDHAO23rykmm5kR607LhUYlCllbhoLtvaE3pV26YZOtG+eO/iJLFmLOaH/FN50hvhMINY+svdLpFCIX9qtkZwd4eYYzeR6oVYysHO2X3TmusJ/HlKbI4D90fpc1SayjDOxu7UG2CNGWc60OWveKpeLnTO49u1jbsNaDFe2vbroEKTVenwvKvJSuRExFfqZsk/lTZm+QJObX70yXdzDO3z3JsjzHc9k41fv1BZNsc5xNfVGkUYYnyDJktrY3BelQBPdLPOiZtpqQ3QqgzrD7q03a5Dd32amvjRLxaKwle8WUSs3d0cR68sPCrDcalKMPifLtCfVjSiQJTAsmFjTf2yvASI2I56DoeaG4Xmj8UyejVR/K9Nxp0vUYj+YCt1grZO/vhJD1DrNXvaQ0m0HsjstOWtpb8uV16GwPBoKf31FZwmsVthGg+O9Yi2RsN2X83mJi9xb2IYj3gSWljYApLusORZ3HBXX9ablxsuf1XMTUR2pme3hHoBWdsvz+OjPFu4YJOhOYRueNEcvYm2VpL6GP8ZMDWLl0b9MOwJEfRmCFJAnUxsLaN8Wa2GYvq4trhLmVaW3XSyZxruac4e4trDN0NwvXlJyYvJZRqOlqaxZsEJqG8cLvENgbc3MZzJLTj+nK3RHN7tNqOArtGVjv9Onb+1I2ZDnVS5lSWgynTEenivHrE2eKTLU6KKRSsP2U5YKiO220ecrw5uCEy6T8blJLskoj7QyIUvbKIkFPowxemDA/GuPoYqjsT9N+p8qJg3TvW3m70gN6qIKS3uI9qGVrfp1d8fVq9Grv9xm5t7QvFflgYfyHgh95RB99o5WVhY8B6rSXsc2+uLlodmVfmRaN3AW0MkqT/EVqMuGfGXvkQe011d+NfxtB8tPrrbvR4vInbEixvekuH7QdfdyklPhES+52qmT+raCOByHHS9dp769Wo7qs+tTlzwsJOYM3sYhx95HithauPIcO4uVvvEyER5VT98Bf14lW63gzZO7q1VuVz1swm9GXA3TfsXsrGVj1zj7MuwRu9k1uGd86TMSG5nWbOyrjfHqtceXHt5Zraf7wryWZNm/VMKdIJ/Z6X/hT6ns+t9SIFntCM+iNzr6TusxIPSgHpXRpYf4mtVpqNQeoxYh7C1ZOYE5X3QIfUwwE0KbWxdjFKETDQuxSoQ5ucCDReW9uxUfdNnCEZQJUPAkDvfNCDcwGBskYA6F3WwwPBAQL5IAD0zgc9OBcQKGsEgN5lPTwQHCCQDwJA73zQg3MBgbJGAOhd1sMDwQEC+SAA9M4HPTgXEChrBIDeZT08EBwgkA8CQO980INzAYGyRgDoXdbDA8EBAvkgUEB6wyclnAND+FVJFp+U5DP+cO5TjQBv9AYbg+g8IWcm2Bg8reQCG4PtkS2kjUGNpu2ZuhqxAIWDLqtpcclLIJPKy/feaWYtz0LI3DYGTPtY4dTU7Kdl99kR6amuMdNupQrLiZHwK4XzgXLE/lyvS61M8fE2Sc15l+HLxgB1BltHNrsNWKE56Ff+fFX34CrYGKSjKOHivGD0ZtRazEuLZh+S1TTvbKhaf/zIHCCYUXkynDx7J8eSrRByChsD2lSka8zUpUQCpyae3uGma6svGCgBIqV3KueDxo8sjRvqnz+p8iKq9UyyXAkB0vkV4cvGgBGx+RWq++pK9eY0EvUGlBKJlVFrARsDhHI2ISqgjQGttRaI+hYINY3P6gM/zVqxmH7mI3+Gp2qD5+ydwsYg/Mz48l6p5t6Cs4eR/ouEU/eR+VCnzDiNDvRtm2xkAIPQ+QCLja3bb2wLpFaWjQF6z/n6Sf+Ds5rHCZ9ng40BPTkSbryj/2W0ilORHyEUFTPmFD9Pk9gzExTTW+9/OLPhpstierehJ/fNNiJNkzzpzQ4vq2SebfZOaWMgGKRqpsSh4YiyZzSiXkqtFdv22o4NkNGb0PkAM8S5gkUase5aZdkYVF9cf629+qs5775euwxJbYuab85K3aZtMSawMcgqexfLxkBet6ur1r24uLIVQgKJrrOtSe4zESmlMlTgi+EZ6V1AG4OYsmfC9ZBYo5fM+SDcMm56vqb2/x5ROGnN88qyMaBtScLOjVrjn6XeZt9zJ801862fvy8Og41BJHuTu5RkTrysEvnYGCCJtqm9VSnB4pm+NZNL2ayIWo5lCiJnbpeXjUH+9CZxPlBdXO/bK/kG25UgRpm4smwMsAkR7VLwmNY5lV2wvN4rudOnskSkFMHGoED0zkRDgt+FYkGICiOlds9O0XLU1SDDiTnTmyCgxCKFsjHYtraLv/febpw4e9OuAOmcD2hui+9fqnu8rXmalt5laWNAC8tKY88RouCAjUGBs3cObOE+RdHW0SFb/3G+CAbAjM4pZxic+2qc99sZl/Tb9beML/ybM2JAndRmDtk7UeI/rfOB6sLGoR7hv2LczpS9WRGWj42BYNg2MBC8H8ne9IKlip29oxuTYGMQHUDCB2O8ETi5IolSIfB4fCGBtK6+vU1hf7hgcmTcWMs/b6dhJudP5H/kwArfG/dIE59sI8S4i9T8wXLIoLjznwoHElATgiBCgp6QRIPQK7Y3+hBjkRWcFUaNvjgl/lM5H3BxOwO9y9TGQO/fd21Fb2r654cyv9773JlV3WIz1jAmcykBG4OEHfL0lI7ut2dkfgYXQXnzM4Z6iRihEOVaf2xedxC81cLDjhohvQtoY4AQSvIGoy0vGSfqHuZhAnMoYpZjCHHbGHA7H9C24fEmYyuRB2Op7r3L1cYACY779p2ytCkDAlRlX9R9zdo5Z18647M32BikfDCWkbolKZB/6mbCzmpxztlT0sU5c4MNNgYlmS5pGgUbg3IbkYqNB2wMym7owMag7IYEAioxAmBjwPcA8PbFGN+BQX2AACCQLwJA73wRhPMBgbJFAOhdtkMDgQEC+SIA9M4XQTgfEChbBIDeZTs0EBggkC8CQO98EYTzAYGyRQDoXbZDA4EBAvkiAPTOF0E4HxAoWwSA3mU7NBAYIJAvAkDvfBGE8wGBskUgX3qX/qtPXqEt9CclCCGwMeB1xKCydAhkR++nxqsgDST5M5z8Yy+wMXha2Vl5NgZZ6SUmDFvBxMwj7QjVus722sDq4kO2krlIqjU0NtZIhL80G4NB7/N/tDdo3Iwo//KU5v6okBGyEJ9xHhzY0kgohKS2ee0X7+J/ZTi4bQw4vve2GdumTosyVcfn73zZGKjO2Z7vs6tQMIzk69Par86KMVxYlWkzMB8Rwznp/O17FoWTtoWgf4r0pMptqv32w2orS0dZcMb+5oDwTr/Sxmd3s60ri+xdxvSW1u7Yo5UjgTeO3kJ1x44WsfXhz1t+sbKls0H8y7ExGHa83CWe/URmn0HKd7Z6+zyWG/q75wVowPPSsEVkbPriUhU65Ok5aZHNNGckZCobg7i5NuDuG3ZYLjf+cDXbKZh7eb5sDARD9jcGXZaJxnv/LZAcdb1w3OG40fTtecEvysYgZ3oX0KsATw2Rsq27UWReddbpVZus7I1dSup9Dx9aFU21jtWtmtYunfsXY2PA5gydZjf0fzshpVXExF/1qc1MJj9n/X2v5P/1K6NpiINqZDYG6o/Mffqam28pvLRSamXZGGClVH3t50cULrr/MWeIX5KNQTl6FTDTUSKv8nuQdo9Bzaa3Wre3Xbh4bw2179J5Hj3y1u1tr1qaNW1lXozyKHLOKLcQbqexCxOeldLGgEVUqntiqXm+9eb74phIYJTefSgqAMydRklsDPT+58bN0onWr0YFjBByZdkYYHpr6z57S+6L0rtTia96tNbaL8TGIKvsXSyvgtiUrEqgN2NCtHDPJmVov1XdsUdJrHPOI8MzErWANgY4RY9s9vdTP1+qnx9nDMkcWxONxlEh6qG6zpm6lFK21loyw0lsDMQjm7/rR9+drlvCOuGVZ2NAx0/NX65/cBWJBrz/fma1WUJL0/2SbAyyondWN1R5eRVEtzd4pXfO++flZWNA353aXTea8I03faguWHt77VL8T8XitFzb61m+1DA3nnK8CGwMQjuuP9690fyPdyX07l3l2RggFG4YW3+h0y1CKOxXzc4I9vYIY/Q+Uv1LsDEoHL2zuhakKpyYvVFkcR5u39XgWXzoVZdocZ6xd4WyMWC47Z1q/PqD7W3zaCji/nB4QhAcsv9uMPj9YN2yKXWQmWwMEN5Us29gdzGmksqzMdjuvD4s6USBKYHkwsYbe2WTR6rtvyQbg0qjd2xrTa9xmazV5FtrOafuKEmyUkotiI2BYNDTe2orOM3B7WiUDWMrB1n3nMzfs7IxQAjhTbXO6qnYE6BM9I40Xz42BvHXtlDH9cddG/TDMDKdc3w6NnuwbYw3378Uq0x1ce1wlzK6Y5fxMl+AAkV6MFaAyFlVCsVCIaqq62xT254srAVQOEQFsSloTg/GeOF2qr00cseCjHfs2/3ntDFIw23lGZ/orsTpDCv/w9bb511jngBFjqxsDPBJeFNtRT39zNRZYaSOdPQuUxsDFKo7E/TfqfKiYN071t5u9IDZqiCj91NjY5Bwk/zTzD3Ol1LT3EtHJxJvXgUIKZqfa9awLyC2lZkFWqm/ZK+1kNC7gDYGSV4FCC3iB2MIGxWYD3Z7xPh1l5qFG3X/+jBu3Z6NjQGd6vGmVDhq35NxcV6uNgYhw7i5W+8TIRHlVP3wF/Ui8/Q+A72ffhsDeOecc2GS1eI8VQ2kj9PAxqCwi8Ocagcbg5xgg5OSEQAbg7KbFWBjUHZDAgGVGAGwMeB7ALLYWuO7aagPEAAECosA0Luw+ELtgEAJEQB6lxB8aBoQKCwCQO/C4gu1AwIlRADoXULwoWlAoLAIAL0Liy/UDgiUEAGgdwnBh6YBgcIiAPQuLL5QOyBQQgSA3iUEH5oGBAqLANC7sPhC7YBACRHIl97wSQnn4KX/GoxkvEk/CCWpC8r8UhHIjt5gY0AyT8iZCTYGJHhWYhmwMdgetTQOB1mMK7eNAa6gStv1jF5uW7hncRLVx4ucQ5qW0n/myanckj7u0I7rK/XGFlqlNHr49k+ZmmP/pYUBmf/2BrrOWHfpPSJyG4O0p3AbCRBBzUOhlK3rqa4x026lKtbxdK2lgAtsDPY+FxVmYP7BeRTYpYTbxgALtijbDc+ohUJETu/8NVLJs3cyVtnTG4ufBmcH1atxemm+/VM2B4dGYviZ8aV9NZrbowqHwbt/yCI1ZrQxSHdKCiMBHnhLUkXq1sNN11ZfMFACRE5vLriGbcde97qR/PsTqjUTlp061B2scqojLiWIuXaIB/y7h8w7HPV/H5SxVLap7gmT7Gbb3fMkXSlQmSwW5zlrrZXIxgAhWfMzHXXuxybU3oaIszcDdJ45POd776zpHdPcj5shKejd73lpZNP5cfPPho2Oee3DzrVX9yoy2BikOaXPe/CcRWqsN3eZmufabm3bD5XaxgD7EJgPdcqM0+hA3zYDM7EnBVxgY4BQmuydoHbOKX7Ow+Kc28YAizFJpAK/r1q3t73I9GZPp6ySebb0TmVj4Ns/tdaABGIUppyKxZsR0SW82gwZB+vQxYWdprYpk/PYADUzqn00kXr+pz1FdZJyXBV0fvqkJZ7epbQxwDcglFortu21HRsgp3cKuMDGgF6TJ7C09DYGsQmLFZGzpXf+CTzafkZ6F8LGIKgbCXm+EFEoVPfHzRc6qcfj+vuXEGNC9HWfUsUQ8o731SEXgc55+lNwuk6gd53R8OUHoa5Pn9RMtt89T3VPWNBfsFIyFoHrqsYaw5nyKfHvCa2zzsMXJkJ6c8O1rbX2rnj3uDcw75Kb9LPK9Ve7qpMsBBFlrf9itNqGXRxyC4C4u9kVLMbiPGNEBbExyI/eOS/Oy8vGgAYhbLi+uM+n/2RQihW8i0JvmtXJkqkIDbr7htaUfuWGSbZulD/+i4hKI7GeceLgArzQm91SDK5wREoRbAx4WGMTjWbKQkk2BtGSuWTvnOmdQycKZWMQDUUzZnpJr4rkHLw4D15Y+NVG261sFuepT+HI3inpjRDqDKuP+rRdbkO3vdraOPGW3JsDZrFTeKc3ioPrsPjWkWrX8UBzu9D8oUhGrz4SttZwLIOu1+h10AO230sWy4e8IEh9cllkb176xiO98+d2VkqpBbExYGEafmZ88TmEs3eYYGst0cYg8ylZ0jsSWaFsDKI9T82uxD7GTUAWXGQ65wy9wcaAFxpzVJLCxgAhgVAsQkhVv6cNPZlddyEUokKhDFHwwm0SnfNoHOTeBhyhc9oYVI+4dStSk1EUQCHtyc39Pf6IXUGGB2NcNgbpThH3h0QouOtPy42LLbf/KkJOoW+65DYGSNATkmgQesX2Rh+6P4qfXQVnhdG7gOQ+poSLjN5gY5A8L4thYyBpbO1qkrHa9pp+XNpgXF5THkWjdwFtDKTnNvt6XTIJhbAuv2J5uu770YhdQdp3VDLZGEht89ov3sX10kfC2yCMWYI4sqPGce9dHBuDJBcHBdsFNbmPKeECGwOy11oKlbf5rjd/bjMRZbU45+xExv322FlgY8D3NOChPrAx4AFEqAIjADYGZTcPwMag7IYEAioxAmBjwPcAZLFzznfTUB8gAAgUFgGgd2HxhdoBgRIiAPQuIfjQNCBQWASA3oXFF2oHBEqIANC7hOBD04BAYREAehcWX6gdECghAkDvEoIPTQMChUUA6F1YfKF2QKCECAC9Swg+NA0IFBYBoHdh8YXaAYESIpAvvcHGgHPwcpZSjNaWxSclJZw+0HR5I5AdvcHGgGQ0yZkJNgYkeFZiGbAx2B41flScOGwMBDLNDo1OKZcIBKGw32E2L5t9mbQceFFQTC+3Vhwbgwglen0HLpianPVYP4j5mz6kG956rselQMEwkq9M1BtHhekIREv5xxeo+6pPbWb9STyy2d9v8xmjWsjFIySHjUGPv3PYvkPvkdIdXDdq7p6uYsmPp40tAS6wMSD73rsUNgZSVbNeaDfb3d6wsLqubadGsLr40BwgmHp5fvVNnr2TY8lWCBkhbhsDpubQjutrbRKkRjVReuvGTL0G2fdX1cs3haibqm0XWi6npXd8jA1jKy8qNXF6/QOel844Rcglmik2vbltDAbd+4+Gl2/KLXcEkqOuF45bRKTXnSS4wMaAgN4lszFgz0xl+652mWXuxy0/Ab8r38YAd1J5cf3XWtU3G7aXGPU/hFCP9+BFm/Nq4+xlIhQSC/V4X7xo9X3cfO/D6C/Bzk/XVZNax+HliBZy6W0M2GE3XVs4oGUtXlL3mwMusDEoaxuD2FgK1B0729DqDw+dBOtzXpbouW2SZZu9U9kYIJzZTlFzH6idb0fEPRFCw7ajA4LvPhbsPL6lQkK3qfbbD6ut06RUl12wvN4jm+pX2iJnqC6u92pVn58Qd8SkzjG9S2xjEOsQo4vY9D9x9kAc/U0F1zGwMSh3GwOEkLSuY0+t5+GCyREmncv5+hCR07sANgbYQM9SM9l497yAcQ5gsjfWXezz+aw1xisKB6J2nUp2xkoDD/XsxJJ+vvV/3xczhaKUWKXlE9nZuyxsDOgIXxmyb91o+vY8218xqY8p4AIbA14ejBXYxkCkaP6VXrr++BHRjTcz9jnffpeFjYHq4tohrfp/T0gpvESP0Zt2KQk8vIoNQzA/z9jfPB54kN6EKHHHnFkAABYfSURBVMqFIfvvBv1z53UPb9B/0lO7x9aVk013MXMS6V0WNga9vv3n1qpn9P88LU5/UU8F1za9j1SDjQE/G+DEqTW5YAqdc4bb1qXFFZJt82i1OdM7hx7wbmOAybZbmRjJyo32u8h2bMAXkw3F6twZTIiitTSMrRxUamKrXHzuelIjdYzDUeltDBhuzzd98X7GbfO0cIGNAdfiPIdZnucpXPQWyZq6WuS24nM7K6VU/m0MxH0hkWQbz5o/WA4ZFHf+U7G1KKR6XK8OOdYi2RvhhJyYvbkl/vGm2jqaaI25iOvDku5wZMkblToXUxOhnenpHRnnAtoY9Pr3jazVLjam4nZCH1PC9R+2YzS9o87wsaVQgkcC2BjkSd80p3PbGJSS2yW2MWBjxV6c04/Klrslmtuj1XYU2DWy2unXsW2AuGwMcGV4U61X8uUgtrnmOkgX59UjzhafbHFSTKFg/SnLAUM1e6MODTneHNwQmfSfDeLbiowHl4kCQpm4naqP23dlrHuZ6OI8Pb3BxiB5pApvY4CtxWrjGvaRPBjLf1me5rl3wjo81QRu/1sf8cNznFdtzsuNP1zlri2e3gjFbAzEXlPd3fidc24bA4Q31VrmW29GNtWSWiKldzFsDJLfw2G/1YNQij5u9ykOLrAxIHjunfEqXD4F8uc205esFuec3SemN7159nJN7T/elZA/FSgfxBMj6fe89KfQ93w6BJemr2BjUBrcn8JWwcag7AYVbAzKbkggoBIjADYGfA9Adl+M8d061AcIAAIFRADoXUBwoWpAoLQIAL1Liz+0DggUEAGgdwHBhaoBgdIiAPQuLf7QOiBQQASA3gUEF6oGBEqLANC7tPhD64BAAREAehcQXKgaECgtAkDv0uIPrQMCBUQA6F1AcKFqQKC0CORLb17UWkoLAbv1Qn9SghBKL4QcDSaLT0rKBz6IpMwQyI7eYGNAMnzkzAQbAxI8K7EM2Bhsjxo/Kk4cNgZIUtfZWC+XSAQCFA66NteWnrgIVM7zT+DlbGOQIDykiAkzpSaReMi1f2CrXhkQoCpOcVWwMUiGBevYDQjvsFRlS3GVyiJ7c/KQcHFeChsDJFHWCwOb/gAVQhJFw87mWs/K3IKbQAg5T4aTZ+/kEc9WCDlbGwNMb1oIjXiyYbmI1er55i8vSXx6/54h8w6/7uZbcl+0ArAxGPDvHkrWnKW6J0yym21ZQE08JsQFi0HvsrAxkDS2dtU5f+k2BrSkaXb0jpdbFJ/b+H2fmGVCBDYGmGtY42WvIk5YCiHd2EqvRHvjhLR0MhvZ0Tt61fhp5l70Pjwqq8T8g30wZaJ/T/gvU5KHxblEXuX3IO0eg3ozhc2QQKLrbNP6TPOLJNk7HyHkNAmZ5JqbbfbO0saApvcuZZUQBUJ+pXm69rsPxMH0cemp7mtLDfOtU++Lg/pQ68XVbr/uf09IGC00sDFYRQh1Urv/j6nTUR/nzcSoyvdK/l+/MsGijWQe8FQmO3pzEpiT3pxMjvI5gfPJ1ebQO24hZJy0m2QIIa91ZeGJm0SgL9J2nkv0aBcyrtWLZ2OAUKhumArdFXtRWPGG/cVep3O65fbZTB5jPYFnz63tVOKNC/ei/s5ZqZsWVAQbg+gYU9b6L0arbcb4eZugpprDpM73lELRO6u4CmljIBCKRQhVVTd2NFTblueWvGSR5cztsrYxSOi7Zmz1JX3NZHphM71/37U1nUl394rEW4ONTVo3GrBBAtgYDITuj6px9q6hDO9s7EK1n78lj5teQG8yspGUSmFjED1VrXu2XbR832wjuhPKmd4koSaUKaKNQfyOGnMj/XUfPUdTHIKRzaP9yDhYt8xIIL/nfP2kZ+HD+nkJ2BigGHSDrtdoQ4gH4ywcgd45sCHFKST0rlqZNW1lXqDnz+2slFKLaGMwHwde3UerLxsSs3eCxD/tWySMp7d78VLD3BTYGMTR+9Uh28Z48/1LMYRVF9cOdyk/P6Jw8TfLs6ypLBbnWcacVJzbxkChapD5tmx+fxAJ5YrG9qY6am1u3pGJ3bxwu1xtDIY8zyqrfp4U+zbC6j/a9/fbKWPz1GlRFFEOif8Bz0vDFtFs4zd/lvgkgY7/b32PUpWwRUzuMQY2BvnO9ezOz4LezC43u3pm/zx5ay3NvXT09MLbGMhr2to01fIq7GcZDrrsG6tP7J4M28S87JmXsY3BkPPV47ZqSQC7/vmVZqP63tk4Cy5OiX/Way1ir1X9w5Wa5Y8TZhnYGNTM/lkVB8uAu2/YvRR1XMyOlnyVzo7eya0SvtbCV7iFrif/1M1EmNXinLNTGffbY2eBjUGhp0UO9YONQQ6gwSlcCICNQdnNC7AxKLshgYBKjADYGPA9APkuzvmOB+oDBAAB3hAAevMGJVQECJQbAkDvchsRiAcQ4A0BoDdvUEJFgEC5IQD0LrcRgXgAAd4QAHrzBiVUBAiUGwJA73IbEYgHEOANAaA3b1BCRYBAuSEA9C63EYF4AAHeEAB68wYlVAQIlBsC+dIbPinhHNE0mi1gY1BuHHiK48mO3mBjQDIVyD/2AhsDEjwrsQzYGGyPGg9KqQghLhuD6LSo0u0xNEm3Fu5ZnJmnSv7fhJazjQESn3EeHNjSYKVTqW1e+8W725qnqYGhdl637tT4pCiIT1nUfBORUmROEQ/bfjuw6Te23WLJQmSGmacSHK33+DuH7Tv0HikKhpF83ai5ezrum/Z0Lff6DlwwNTnrbx2pxlMFqyltBuab//6uBJ910vnb9ywK5lf6p0hVHO4OYGPAgMMHvaW1O/Zo5UjgXeUQQla0GRrlwWq5l4ze+Ss6kGfv5JmWrRByljYGjPSKsemLS1XokKfnpEU2E6fWwjX1qaYLIc9nYtesEPX6uodMepN+4oSUEb3BYqlDVhUKukpBb+7WB937j4aXb8otdwSSo64XjltEpLGFdlxfa5MgNaqJ0ft1rxvJvz+hWjMh9UfmQ93BKqc6Qu9tMSYx2BiwdF0SplB6aRcCjWSRsq27UWReddbpVUk658Ia3S49tbAm7jIgYnrzwvBUSSL9vXfW9MZ6aZra/xmUJYtMKS+u/1qr+mbD9lJXNTNfaeG0mAlBDkLcWK8/Uhvq8x48Z5Ea681dpua5aPbGyi3ajboaw6bYWn9/wbOvx0OZ6qcGZVhFVB9qPGf9906nBKEwkm9Oa2+fxWo6uRzcrSfW1HRt4YA2ko3TNpMMF87eh0U/OxxV0/p7H1LdEzbRYtCgp8GMl0kEG4OollMCY3nI3iltDESK5j0a309LGzLd3vZi0ps9j7JK5tnSOzsbA5reVXf6VBZmXX3O+vs+dO+05nGCQHcKGgh6qK5zpvaNxpiNwUnKcVXQ+emTlnh6d2w0T1wJ7h8xK+dbJv+bOjDitHxYP/8xEo9s/q4/PHu57vFNJOqlWv8NPRytyoXb9DkqjtYTKgs/M774HGrivPyxi0Y1251vs65fmN7iyUnqUJf8szv+/qOibxcch5irG5veYGPAgjLZuoQgRWeeAslKqUJle1u9Z+WROYDU2dI7/wQejTgjvYtoY4DvHh1bE43GUSGiudqllJK4COLs1OOmbQyab5+VeBlR5O2DLbSGGFnFOqPhyw9CEcMjqnvCgv7SNHuZNuvpqs6grJ55rNO0HneyYND1ypB960bTt+cF6WrVU11jlprJxrvnBXHLE5ret94V7x73BuZdcpN+Vrm+vXiJu/dGYGOQBt6C2BgIaxs6G/yP5rb8CGVP75w32MrdxkB1wdrba5fi0VAsTsu1vZ7lSw1zbHVuroES9IQkGoSafftObtQtNtx8V8JSi+egN21jFvUzYxmbDbr7htaUfuWGSbZulD/+i4iKu1Jkx2y6dELrrBp6ffvPrVXP6P95Wpxe2151ce2QVo29GRi3sOjdB0PvI9WKsZWDnbJ7pzXWk5FfMb3BxiCH8crxlMTsrWzf1a5OrMvNtffG1WDO9M4h+hLYGIj7w+EJQXDI/rvB4PdRiwKC2AXDtoGB4P249Xw29MaOXGH1UZ+2y23otldbGycSnD0IYogvkoLeDLfnm754P+O2eYIp8nb1Kzfa76JteruOB5rbheYPRbIo+RMsCsDGIOuBy+6EpMW5SCiOrshU9Xva0JPZdUcwFMrsUpI/t7NSSi2ZjUHD2MpBbd1nbDdfhBJsDBIGgaY3NTuqfTSRbnGeMnuzqhOcsf3+ODLGe6QIOhGaR5mHKOWtAf1Dr3/fyFrtYmMqbif0UdwXEtFPvrCh0B8shwyKO/+p2FoUUv+xTe/o89RYbk+iN9gYZMdX8tLcNgbs87O49+aF2+VqY4CQ8oxPdFfidIaV/2Hr7fOuxd+XctgYDLn36at+/kzsnkdVr/u6315v8euiKVfcHxKh4K4/LTcuttz+qwg5hb7p5DV5bHEONgbks5qPkrm/tca4fJaxjUG50zv9i6sZN+Qi3evxvnjR5rzc+MNV7vkQdzOJkOYj88FujxjbGNQs3Kj714dCdqrksDE46Tn4tk2j9NLPr6S2RfXMJYV1mmnLt3/K1MxudlH/txPiyI4ax723dNh+8HWXUuITIbHfqZpJkP4/6XrtvfVqVMfyD08zyTlblzLvosSdFn1Nhf4rp1VDtDznvXeK7B17rcXnBBsDPi5HBa4j/9TNBJjV4pyzT8T0pneDXq6p/UfcdleBcSpc9f2el/4U+j69aWnhWuevZrAx4A/LX3hNYGNQdhMAbAzKbkggoBIjADYGfA9AdvfefLcO9QECgEABEQB6FxBcqBoQKC0CQO/S4g+tAwIFRADoXUBwoWpAoLQIAL1Liz+0DggUEAGgdwHBhaoBgdIiAPQuLf7QOiBQQASA3gUEF6oGBEqLANC7tPhD64BAAREAehcQXKgaECgtAvnSG2wMOMcPbAxKO62hdQaB7OgNNgYk84b8Yy+wMSDBs4zL6P37rm15/5xZzapEfciC3pySpoTZO40cKg9KqSlsDLB+i55WFaMPr+nHpQ1fRpzz/ya0LGwMBMd9+05Z2pQBhOTr09qvzmbQG8PaayP2A/02FUKUs/rHK5pHUQE2fUg3vPVcj0tBGwOsTNRjJcZiHljq0LRbqfo6XtolZcCpYkv4FBx/nS5l1Np2K2tmtiVowq3jS8/rg1iMiZaL263cri7oVy5Pae6Pxn0hL7tg6Tco/84lRF1MhFK09XTQm9vGANNbavppxZYtznkynDx7JweWrRByChsDPdV9banV1PTPD6Whw85Dx50Z1UIF7zlfO4lFVO99gmqHLIcM0q/Oqs20QLJuzNRrkH1/Vb18U4i6qdp2oeVyMekdbrq2+oKBEqA4eqcJOOV4R6QR481qMIfbJPKAsX7qrBD1eF+8YNVI/OsRem9rPHeG1e9s9fb5nyQoZ/R4D160bxLIUWY7C/koXwx6M/k5VZYunI1BzvTOXwU553vvrOnNbWOANRL9c+d17ret0isa3ztPDkjq02t968ZWDmlrb74v+tXF0A+nhXvHTeIpw5cfCBCevjbn1cbZy/HzbdD16pDXvhjQGyi7UbfabtmtEa9ONHxNJ3bRSfcLb2/WKwMCWpXlu/9UmWPabNnN27qPzIc6ZcZpdKBv2xWEOT9lwGmqT03vmkVdrV54+y0Fdc7arxevd1pRAr1xtVgfRjxh+HKULasc2nH9cftCaTyYMkGZHb2jtTF0Zf7LqJSnWrpHCxTfxgDTu1ESQgIhCrq3TJaVDayJTHbkmcDZjWSVzLOlN7eNQUROXKr/1KSYbJvXr73aI4u6F3AhgDNY61zr53d8rw1Rs31K9adPOky0t9aw7eiA4LuPBTuPb6mQ0G2q/fbDaizGhOlt2/pY/4N28/W+wMJ4w7ze+kaP/PMjCheinp1Yalxs/vKSxCcJKQ/7ZHNy88dkwCeX6qXUWrFtr+3YAJveqQNOT+8BJ4UCYlTltqpn/ktJX3QY0ag2x+FN6pKWOmmqndJWDZqS6S0dsb3S703M3gilMYrJtc98nZcdvZP9BlLdeyd4FbDDLZ6NgUwtCbv8QSQS12kMzUrv0sLiRpAYOb4YnpHe/NsY4MymV986It49RU9TlMCNZAz8+6ZWtMa2WyYnwyJ0beEAwremtJOJz2etMV5ROBC165R5h6Me32pievt+Pq153Ol6dYj6V5969T3n62+jb/qVm3SWE060fz1KDHbGggnKpChlwOlqGvS31IgsCwLUHNj99ppBor5zQmUxbWvCPdCvHaiR+Q3CH/qrOhjc4u+9EZIv3aj/7nzcvTde6bGl0TN2pKgFCkXvrDpREBuDhAjkrYadNfa5f22SZfCcuV0WNgY80pv2LQo8vIo9RvCTljP2N48HHoxqH2kjrMY8p+kd/QcKN14zHzAEPVbF+oL8yU3Z5o2s5gNXYV7oza6413PogpnC16CI5OOMu294TTrbevP94H4WvVsZEViEZL927O/3WMab7l+KixDonffoZq4g2YQo7hyhpunZNorYRTBnemcONKkE7zYGUa8fWRNedrY/yGZxTnNVqWItzo8N+GJGRZjDLmxsgtLQG3dRPBDQHvI373W0aMKPx/UJlMgapkR6xxbniQGTVh3YO7FcP9N26zSKSLuG1cM+4Yxs8wZefXDde6OW8YUepP9kUMqWlwV6k0KeR7kM9JY1G3apCbN3/tzOSimVfxsDFNta25Bf0XqSttYEPWGRScA2AIruVHV/FJp5n7W1hvnsWItkb7rmjNmbPYzcuwOiThScz2a0E+kd21pLDDhSa3If49rDW4arIXb2Ph/9PSW9sd9oTWOC8UPL+MLz/uZPTkScELLpVoHLlsXiPN8+ctsYKGp0Vb4tp58KCaRqbZtBHVx9jO0EMxy8cLvUNgbpH4xhl2+zxq+b6ldGHxqmfs4U2nF9uVuiuT1abUeBXSOrnYyNQfKaPLY4D+wco6yfSB0zAuFhz4GTG4GJ1q9iu80hw/XlfRrp3OWGBym02dlDtG1v9ortjT50f1S9ilBwVkiZUIYHYxx9DLZc9LsnpY5pIerxd5za2K1U0A//WBZo2w1z0bszXH3UtZ/DLdy/b8pcdaPtbuzqkGmKFe/3LOgd3fqORlfeNgYKzc4dtVKxUIhQKOjeMm+srvtCmZEtGr0La2OQ7rWWfk/viFljbfw83t8r5VsivYGuM9Zdeo8Iib2muruxnfP4W+4Yvamd1607NT4p/RrMulFz9zTb6CvcMr7co6dsxrap0/ieNv0RNSeNFFNE7xTSvdbC0ceQYXxtj95LJ9kqt1X145WaZbyfn4HerNdaFBszdfF9YTYjkHFQtZavF2ImIHL5PTt6J7dA+NZaLqGV4pz8uc1EndXinLOjGffbY2dVoo2Bbmxlx2Izn1vrpZguCIVbx5cN2BS5mO/5kHc1X3qTtwQlC4ZApdkYCAZdvzlFPYi8FVcwXApfcXdQ94eQ+89V7nJM3Vl/UlJ4vKCFpx6BQdfL7wQfJbiLPfW9Lk0HIXuXBndoFRAoAgJA7yKADE0AAqVBAOhdGtyhVUCgCAgAvYsAMjQBCJQGAaB3aXCHVgGBIiDw/wNSbOlFs1MpNQAAAABJRU5ErkJggg==)"
      ],
      "metadata": {
        "id": "CrtHW9NsVOZ6"
      }
    }
  ]
}