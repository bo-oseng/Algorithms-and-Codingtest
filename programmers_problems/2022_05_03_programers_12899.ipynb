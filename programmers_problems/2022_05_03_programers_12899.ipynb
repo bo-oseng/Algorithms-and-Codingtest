{
  "nbformat": 4,
  "nbformat_minor": 0,
  "metadata": {
    "colab": {
      "name": "2022-05-03-programers-12899.ipynb",
      "provenance": [],
      "collapsed_sections": []
    },
    "kernelspec": {
      "name": "python3",
      "display_name": "Python 3"
    },
    "language_info": {
      "name": "python"
    }
  },
  "cells": [
    {
      "cell_type": "markdown",
      "source": [
        "---\n",
        "layout: post\n",
        "\n",
        "title: Programmers, 구현, 연습문제 중 '124 나라의 숫자'\n",
        "\n",
        "category: Algorithms\n",
        "---"
      ],
      "metadata": {
        "id": "taWvwKlcW4mR"
      }
    },
    {
      "cell_type": "markdown",
      "source": [
        "# 프로그래머스 문제 중 12899번 '124 나라의 숫자'\n",
        "<a href = 'https://programmers.co.kr/learn/courses/30/lessons/12899'>https://programmers.co.kr/learn/courses/30/lessons/12899</a>"
      ],
      "metadata": {
        "id": "D7FTrC-mkEnB"
      }
    },
    {
      "cell_type": "markdown",
      "source": [
        "### 문제 설명"
      ],
      "metadata": {
        "id": "awXJHQBbXaKK"
      }
    },
    {
      "cell_type": "markdown",
      "source": [
        "124 나라가 있습니다. 124 나라에서는 10진법이 아닌 다음과 같은 자신들만의 규칙으로 수를 표현합니다.\n",
        "\n",
        "1. 124 나라에는 자연수만 존재합니다.\n",
        "2. 124 나라에는 모든 수를 표현할 때 1, 2, 4만 사용합니다.  \n",
        "\n",
        "예를 들어서 124 나라에서 사용하는 숫자는 다음과 같이 변환됩니다."
      ],
      "metadata": {
        "id": "h5x2B3sxXaMe"
      }
    },
    {
      "cell_type": "markdown",
      "source": [
        "| 10진법 | 123 나라 | 10진법 | 123 나라 |\n",
        "|--------|----------|--------|----------|\n",
        "| 1    | 1      | 6    | 14     |\n",
        "| 2    | 2      | 7    | 21     |\n",
        "| 3    | 4      | 8    | 22     |\n",
        "| 4    | 11     | 9    | 24     |\n",
        "| 5    | 12     | 10   | 41     |"
      ],
      "metadata": {
        "id": "zIfvNEJuXaOy"
      }
    },
    {
      "cell_type": "markdown",
      "source": [
        "자연수 n이 매개변수로 주어질 때, n을 124 나라에서 사용하는 숫자로 바꾼 값을 return 하도록 solution 함수를 완성해 주세요."
      ],
      "metadata": {
        "id": "JqopPgCyXaRR"
      }
    },
    {
      "cell_type": "markdown",
      "source": [
        "### 제한사항"
      ],
      "metadata": {
        "id": "G2pRiY8kXaTs"
      }
    },
    {
      "cell_type": "markdown",
      "source": [
        "+ n은 500,000,000이하의 자연수 입니다."
      ],
      "metadata": {
        "id": "qX4Z0tSFXaWK"
      }
    },
    {
      "cell_type": "markdown",
      "source": [
        "### 입출력 예"
      ],
      "metadata": {
        "id": "Ac5NfeItXaYZ"
      }
    },
    {
      "cell_type": "markdown",
      "source": [
        "| n | result |\n",
        "|---|--------|\n",
        "| 1 | 1      |\n",
        "| 2 | 2      |\n",
        "| 3 | 4      |\n",
        "| 4 | 11     |"
      ],
      "metadata": {
        "id": "DmvfOYUoXsBt"
      }
    },
    {
      "cell_type": "markdown",
      "source": [
        "---"
      ],
      "metadata": {
        "id": "5GSFx2pEYeYb"
      }
    },
    {
      "cell_type": "markdown",
      "source": [
        "이 문제를 처음보고 알아차리기는 힘들었지만, 10진법을 3진법으로 바꾸는 과정과 유사하다. 3진법으로 바꾸는 과정과 124나라의 숫자를 같이 살펴보자."
      ],
      "metadata": {
        "id": "29TWfWcV14zw"
      }
    },
    {
      "cell_type": "markdown",
      "source": [
        "| 10 진법  | 3 진법   | 124 나라  |\n",
        "|----------|----------|-----------|\n",
        "| 1        | 1        | 1         |\n",
        "| 2        | 2        | 2         |\n",
        "| 3        | 10       | 4         |\n",
        "| 4        | 11       | 11        |\n",
        "| 5        | 12       | 12        |\n",
        "| 6        | 20       | 14        |\n",
        "| 7        | 21       | 21        |\n",
        "| 8        | 22       | 22        |\n",
        "| 9        | 100      | 24        |\n",
        "| 10       | 101      | 41        |\n",
        "| 11       | 102      | 42        |\n",
        "| 12       | 110      | 44        |\n",
        "| 13       | 111      | 111       |"
      ],
      "metadata": {
        "id": "WFQlg_LQYecO"
      }
    },
    {
      "cell_type": "markdown",
      "source": [
        "3진법과 비교했을 때 거의 유사하나 10진법의 3의 배수에 해당하는 수일 때마다 달라지는걸 알 수있다.   \n",
        "\n",
        "124나라의 3이 4로 바뀌기 때문에 10 진법의 수 n을 3진법으로 변환하되, 이 과정에서 3으로 나누어 떨어질 때 0 이아닌 4를 대입하고, 그 다음 차수의 수에도 -1을 해준다.   \n",
        "  \n",
        "예를 들어 10을 3진법의 숫자로 변환하는 과정을 먼저 살펴보자.  \n",
        "  + 10 / 3 = 3 ... 1 \n",
        "  +  3 / 3 = 1 ... 0    \n",
        "\n",
        "  101(3)  \n",
        "\n",
        "다음으로는 124 나라의 숫자로 변환하는 과정을 살펴보자.\n",
        "  + 10 / 3 = 3 ... 1\n",
        "  +  3 / 3 = 1 ... 0 ---> \n",
        "    + 3 / 3 = 0 ... 4 ( 3으로 나누어 떨어지므로 0을 4로 바꾸고 그 다음차수 수에 1을 뺐다.)\n",
        "  \n",
        "  41(124나라)"
      ],
      "metadata": {
        "id": "HK_HHXpX2dcp"
      }
    },
    {
      "cell_type": "markdown",
      "source": [
        "위 과정을 코드로 나타내면 다음과 같다."
      ],
      "metadata": {
        "id": "sUN_LIzZ6grx"
      }
    },
    {
      "cell_type": "code",
      "source": [
        "def solution(n):\n",
        "    answer = ''\n",
        "    stk = []\n",
        "    m = n if n != 3 else 4\n",
        "    while n > 3:\n",
        "        m = n % 3\n",
        "        n = n // 3\n",
        "         # m이 3으로 나누어 떨어진다면 m을 4로 바꾸고, n에서 1을 빼준다.\n",
        "        if m == 0:\n",
        "            m = 4\n",
        "            n -= 1\n",
        "        stk.append(m)\n",
        "        \n",
        "     # while문을 빠져나온 n이 3일 경우 예외처리 해준다.\n",
        "    if n == 3:\n",
        "        n = 4\n",
        "    stk.append(n)\n",
        "    while stk:\n",
        "        answer += str(stk.pop())\n",
        "    return answer"
      ],
      "metadata": {
        "id": "bDIx2DYxYfuO"
      },
      "execution_count": null,
      "outputs": []
    }
  ]
}