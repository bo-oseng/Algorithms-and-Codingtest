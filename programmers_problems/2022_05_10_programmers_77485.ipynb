{
  "nbformat": 4,
  "nbformat_minor": 0,
  "metadata": {
    "colab": {
      "name": "2022-05-10-programmers-77485.ipynb",
      "provenance": [],
      "collapsed_sections": []
    },
    "kernelspec": {
      "name": "python3",
      "display_name": "Python 3"
    },
    "language_info": {
      "name": "python"
    }
  },
  "cells": [
    {
      "cell_type": "markdown",
      "source": [
        "---\n",
        "layout: post\n",
        "\n",
        "title: Programmers, 2021 Dev-Matching 중, '행렬 테두리 회전'\n",
        "\n",
        "category: Algorithms\n",
        "---"
      ],
      "metadata": {
        "id": "29ZNMnwT9PFw"
      }
    },
    {
      "cell_type": "markdown",
      "source": [
        "# 프로그래머스 문제 중 77485번 '행렬 테두리 회전'\n",
        "<a href = 'https://programmers.co.kr/learn/courses/30/lessons/77485'>https://programmers.co.kr/learn/courses/30/lessons/77485</a>"
      ],
      "metadata": {
        "id": "1-9SjcSO9PIM"
      }
    },
    {
      "cell_type": "markdown",
      "source": [
        "rows x columns 크기인 행렬이 있습니다. 행렬에는 1부터 rows x columns까지의 숫자가 한 줄씩 순서대로 적혀있습니다. 이 행렬에서 직사각형 모양의 범위를 여러 번 선택해, 테두리 부분에 있는 숫자들을 시계방향으로 회전시키려 합니다. 각 회전은 (x1, y1, x2, y2)인 정수 4개로 표현하며, 그 의미는 다음과 같습니다.\n",
        "\n",
        "+ x1 행 y1 열부터 x2 행 y2 열까지의 영역에 해당하는 직사각형에서 테두리에 있는 숫자들을 한 칸씩 시계방향으로 회전합니다.  \n",
        "  \n",
        "  \n",
        "다음은 6 x 6 크기 행렬의 예시입니다."
      ],
      "metadata": {
        "id": "xxSvdO2O9PK9"
      }
    },
    {
      "cell_type": "markdown",
      "source": [
        "<center>\n",
        "  <img src = 'https://grepp-programmers.s3.ap-northeast-2.amazonaws.com/files/ybm/4c3c0fab-11f4-43b6-b290-6f4017e9379f/grid_example.png' width ='50%'>\n",
        "</center>"
      ],
      "metadata": {
        "id": "YerUGurR9PNi"
      }
    },
    {
      "cell_type": "markdown",
      "source": [
        "이 행렬에 (2, 2, 5, 4) 회전을 적용하면, 아래 그림과 같이 2행 2열부터 5행 4열까지 영역의 테두리가 시계방향으로 회전합니다. 이때, 중앙의 15와 21이 있는 영역은 회전하지 않는 것을 주의하세요."
      ],
      "metadata": {
        "id": "wCoMWq-n9PP6"
      }
    },
    {
      "cell_type": "markdown",
      "source": [
        "<center>\n",
        "  <img src = 'https://grepp-programmers.s3.ap-northeast-2.amazonaws.com/files/ybm/962df137-5c71-4091-ad9f-8e322910c1ab/rotation_example.png' width ='50%'>\n",
        "</center>"
      ],
      "metadata": {
        "id": "hFlZyZqI9PSb"
      }
    },
    {
      "cell_type": "markdown",
      "source": [
        "행렬의 세로 길이(행 개수) rows, 가로 길이(열 개수) columns, 그리고 회전들의 목록 queries가 주어질 때, 각 회전들을 배열에 적용한 뒤, 그 회전에 의해 위치가 바뀐 숫자들 중 가장 작은 숫자들을 순서대로 배열에 담아 return 하도록 solution 함수를 완성해주세요."
      ],
      "metadata": {
        "id": "ug3MiElL9653"
      }
    },
    {
      "cell_type": "markdown",
      "source": [
        "제한사항\n",
        "+ rows는 2 이상 100 이하인 자연수입니다.\n",
        "+ columns는 2 이상 100 이하인 자연수입니다.\n",
        "+ 처음에 행렬에는 가로 방향으로 숫자가 1부터 하나씩 증가하면서 적혀있습니다.\n",
        "  + 즉, 아무 회전도 하지 않았을 때, i 행 j 열에 있는 숫자는 ((i-1) x columns + j)입니다.\n",
        "+ queries의 행의 개수(회전의 개수)는 1 이상 10,000 이하입니다.\n",
        "+ queries의 각 행은 4개의 정수 [x1, y1, x2, y2]입니다.\n",
        "  +  x1 행 y1 열부터 x2 행 y2 열까지 영역의 테두리를 시계방향으로 회전한다는 뜻입니다.\n",
        "  +  1 ≤ x1 < x2 ≤ rows, 1 ≤ y1 < y2 ≤ columns입니다.\n",
        "  +  모든 회전은 순서대로 이루어집니다.\n",
        "  + 예를 들어, 두 번째 회전에 대한 답은 첫 번째 회전을 실행한 다음, 그 상태에서 두 번째 회전을 실행했을 때 이동한 숫자 중 최솟값을 구하면 됩니다."
      ],
      "metadata": {
        "id": "--jBWeyv9670"
      }
    },
    {
      "cell_type": "markdown",
      "source": [
        "### 입출력 예시"
      ],
      "metadata": {
        "id": "_s2WZHtp96-M"
      }
    },
    {
      "cell_type": "markdown",
      "source": [
        "| rows  |  columns | queries  | result  |\n",
        "|---|---|---|---|\n",
        "| 6  |  6 | [[2,2,5,4],[3,3,6,6],[5,1,6,3]] |  [8, 10, 25] |\n",
        "|  3 |   3|  \t[[1,1,2,2],[1,2,2,3],[2,1,3,2],[2,2,3,3]] | [1, 1, 5, 3]  |\n",
        "| 100  | 97  |\t[[1,1,100,97]]   |  [1] |"
      ],
      "metadata": {
        "id": "6hh4Vapu-iKY"
      }
    },
    {
      "cell_type": "markdown",
      "source": [
        "### 입출력 예 설명"
      ],
      "metadata": {
        "id": "df1yYVmO97CW"
      }
    },
    {
      "cell_type": "markdown",
      "source": [
        "입출력 예 #1\n",
        "\n",
        "+ 회전을 수행하는 과정을 그림으로 표현하면 다음과 같습니다."
      ],
      "metadata": {
        "id": "iRGylqn0-O2g"
      }
    },
    {
      "cell_type": "markdown",
      "source": [
        "<center>\n",
        "  <img src = 'https://grepp-programmers.s3.ap-northeast-2.amazonaws.com/files/ybm/8c8cdd84-d0ec-4b9d-bdf7-f100d0098c5e/example1.png' width ='70%'>\n",
        "</center>"
      ],
      "metadata": {
        "id": "KJzjYLrT-O5h"
      }
    },
    {
      "cell_type": "markdown",
      "source": [
        "입출력 예 #2\n",
        "\n",
        "+ 회전을 수행하는 과정을 그림으로 표현하면 다음과 같습니다."
      ],
      "metadata": {
        "id": "wUkoSlV9-O8j"
      }
    },
    {
      "cell_type": "markdown",
      "source": [
        "<center>\n",
        "  <img src = 'https://grepp-programmers.s3.ap-northeast-2.amazonaws.com/files/ybm/e3fce2bf-9da9-41e4-926a-5d19b4f31188/example2.png' width ='60%'>\n",
        "</center>"
      ],
      "metadata": {
        "id": "74qfzs7p-O_X"
      }
    },
    {
      "cell_type": "markdown",
      "source": [
        "입출력 예 #3\n",
        "\n",
        "+ 이 예시에서는 행렬의 테두리에 위치한 모든 칸들이 움직입니다. 따라서, 행렬의 테두리에 있는 수 중 가장 작은 숫자인 1이 바로 답이 됩니다."
      ],
      "metadata": {
        "id": "whsIckcl-PFE"
      }
    },
    {
      "cell_type": "markdown",
      "source": [
        "---"
      ],
      "metadata": {
        "id": "qKdVBdSX-hYr"
      }
    },
    {
      "cell_type": "markdown",
      "source": [
        "이 문제는 어렵지 않게 풀 수 있지만, 꼼꼼함이 매우 중요한 문제였다."
      ],
      "metadata": {
        "id": "HI50L3F3-iIV"
      }
    },
    {
      "cell_type": "markdown",
      "source": [
        "코드의 흐름이 다음과 같다.  \n",
        "1. 입력으로 주어지는 인덱스들은 1부터 시작하므로 적절한 배열을 선언하고, 문제의 초기 조건에 맞게 적절한값을 대열한다.\n",
        "2. 회전을 구현할 함수를 선언한다. 이때 헹렬의 테두리 네개 중 하나를 메인으로 잡고 하나씩 밀어준다는 느낌으로 반복문을 진행한다. 증요한건 이때 처음 원소의 값을 다른 변수에(tmp) 저장해야한다.\n",
        "3. 회전에 참여하는 수들중 가장 작은 값을 min_board에 저장한다.\n"
      ],
      "metadata": {
        "id": "chpr8nxw_XRv"
      }
    },
    {
      "cell_type": "markdown",
      "source": [
        "이를 코드로 구현 하면 다음과 같다."
      ],
      "metadata": {
        "id": "g1kwWoS_AEal"
      }
    },
    {
      "cell_type": "code",
      "source": [
        "from pprint import pprint\n",
        "import sys\n",
        "\n",
        "def solution(rows, columns, queries):\n",
        "    answer = []\n",
        "\n",
        "     # 0 인덱스가 아닌 1 인덱스로 활용하기 위한 전처리\n",
        "    board = [[-1] * (columns + 1)] + [[-1] + [0] * columns for _ in range(rows)]\n",
        "    for r in range(1, rows + 1):\n",
        "        for c in range(1, columns + 1):\n",
        "            board[r][c] = (r - 1) * columns + c\n",
        "\n",
        "\n",
        "    def rotate(x_1, y_1, x_2, y_2):\n",
        "        min_board = sys.maxsize\n",
        "         # 왼쪽 아래 축을 기준으로 회전 시작, 처음값을 tmp에 저장\n",
        "        tmp = board[x_1][y_1]\n",
        "        min_board = min(min_board, tmp)\n",
        "         # 회전에 참여하는 모든 수들 중 최솟 값을 찾음\n",
        "        for i in range(x_2 - x_1):\n",
        "            board[x_1 + i][y_1] = board[x_1 + i + 1][y_1]\n",
        "            min_board = min (min_board, board[x_1 + i + 1][y_1])\n",
        "        for j in range(y_2 - y_1):\n",
        "            board[x_2][y_1 + j] = board[x_2][y_1 + j + 1]\n",
        "            min_board = min(min_board, board[x_2][y_1 + j + 1])\n",
        "        for i in range(x_2 - x_1):\n",
        "            board[x_2 - i][y_2] = board[x_2 - i - 1][y_2]\n",
        "            min_board = min(min_board, board[x_2 - i - 1][y_2])\n",
        "        for j in range(y_2 - y_1):\n",
        "            board[x_1][y_2 - j] = board[x_1][y_2 - j - 1]\n",
        "            min_board = min(min_board, board[x_1][y_2 - j - 1])\n",
        "        board[x_1][y_1 + 1] = tmp\n",
        "        print(min_board)\n",
        "        return min_board\n",
        "\n",
        "    for query in queries:\n",
        "        x1, y1, x2, y2 = query\n",
        "        answer.append(rotate(x1, y1, x2, y2))\n",
        "        pprint(board)\n",
        "        print()\n",
        "\n",
        "    print(answer)\n",
        "    return answer\n",
        "\n",
        "solution(6, 6, [[2,2,5,4],[3,3,6,6],[5,1,6,3]])"
      ],
      "metadata": {
        "colab": {
          "base_uri": "https://localhost:8080/"
        },
        "id": "6mnBeJ2o--jW",
        "outputId": "d68823c3-f8be-40a4-f8e3-4848f73e3830"
      },
      "execution_count": 2,
      "outputs": [
        {
          "output_type": "stream",
          "name": "stdout",
          "text": [
            "8\n",
            "[[-1, -1, -1, -1, -1, -1, -1],\n",
            " [-1, 1, 2, 3, 4, 5, 6],\n",
            " [-1, 7, 14, 8, 9, 11, 12],\n",
            " [-1, 13, 20, 15, 10, 17, 18],\n",
            " [-1, 19, 26, 21, 16, 23, 24],\n",
            " [-1, 25, 27, 28, 22, 29, 30],\n",
            " [-1, 31, 32, 33, 34, 35, 36]]\n",
            "\n",
            "10\n",
            "[[-1, -1, -1, -1, -1, -1, -1],\n",
            " [-1, 1, 2, 3, 4, 5, 6],\n",
            " [-1, 7, 14, 8, 9, 11, 12],\n",
            " [-1, 13, 20, 21, 15, 10, 17],\n",
            " [-1, 19, 26, 28, 16, 23, 18],\n",
            " [-1, 25, 27, 33, 22, 29, 24],\n",
            " [-1, 31, 32, 34, 35, 36, 30]]\n",
            "\n",
            "25\n",
            "[[-1, -1, -1, -1, -1, -1, -1],\n",
            " [-1, 1, 2, 3, 4, 5, 6],\n",
            " [-1, 7, 14, 8, 9, 11, 12],\n",
            " [-1, 13, 20, 21, 15, 10, 17],\n",
            " [-1, 19, 26, 28, 16, 23, 18],\n",
            " [-1, 31, 25, 27, 22, 29, 24],\n",
            " [-1, 32, 34, 33, 35, 36, 30]]\n",
            "\n",
            "[8, 10, 25]\n"
          ]
        },
        {
          "output_type": "execute_result",
          "data": {
            "text/plain": [
              "[8, 10, 25]"
            ]
          },
          "metadata": {},
          "execution_count": 2
        }
      ]
    }
  ]
}