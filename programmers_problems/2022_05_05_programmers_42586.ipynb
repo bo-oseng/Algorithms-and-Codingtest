{
  "nbformat": 4,
  "nbformat_minor": 0,
  "metadata": {
    "colab": {
      "name": "2022-05-05-programmers-42586.ipynb",
      "provenance": [],
      "collapsed_sections": []
    },
    "kernelspec": {
      "name": "python3",
      "display_name": "Python 3"
    },
    "language_info": {
      "name": "python"
    }
  },
  "cells": [
    {
      "cell_type": "markdown",
      "source": [
        "---\n",
        "layout: post\n",
        "\n",
        "title: Programmers, 스택/큐, '기능개발'\n",
        "\n",
        "category: Algorithms\n",
        "---"
      ],
      "metadata": {
        "id": "d9oCdapHjJVr"
      }
    },
    {
      "cell_type": "markdown",
      "source": [
        "# 프로그래머스 문제 중 42586번 '기능개발'\n",
        "<a href = 'https://programmers.co.kr/learn/courses/30/lessons/42586?language=python3'>https://programmers.co.kr/learn/courses/30/lessons/42586?language=python3</a>"
      ],
      "metadata": {
        "id": "iF9748rBjQ2x"
      }
    },
    {
      "cell_type": "markdown",
      "source": [
        "### 문제 설명"
      ],
      "metadata": {
        "id": "A3ZZFkx7kkmc"
      }
    },
    {
      "cell_type": "markdown",
      "source": [
        "프로그래머스 팀에서는 기능 개선 작업을 수행 중입니다. 각 기능은 진도가 100%일 때 서비스에 반영할 수 있습니다.\n",
        "\n",
        "또, 각 기능의 개발속도는 모두 다르기 때문에 뒤에 있는 기능이 앞에 있는 기능보다 먼저 개발될 수 있고, 이때 뒤에 있는 기능은 앞에 있는 기능이 배포될 때 함께 배포됩니다.\n",
        "\n",
        "먼저 배포되어야 하는 순서대로 작업의 진도가 적힌 정수 배열 progresses와 각 작업의 개발 속도가 적힌 정수 배열 speeds가 주어질 때 각 배포마다 몇 개의 기능이 배포되는지를 return 하도록 solution 함수를 완성하세요."
      ],
      "metadata": {
        "id": "7_epvidOkkoz"
      }
    },
    {
      "cell_type": "markdown",
      "source": [
        "### 제한사항"
      ],
      "metadata": {
        "id": "cK-hW_q_kkrR"
      }
    },
    {
      "cell_type": "markdown",
      "source": [
        "\n",
        "+ 작업의 개수(progresses, speeds배열의 길이)는 100개 이하입니다.\n",
        "+ 작업 진도는 100 미만의 자연수입니다.\n",
        "+ 작업 속도는 100 이하의 자연수입니다.\n",
        "+ 배포는 하루에 한 번만 할 수 있으며, 하루의 끝에 이루어진다고 가정합니다. 예를 들어 진도율이 95%인 작업의 개발 속도가 하루에 4%라면 배포는 2일 뒤에 이루어집니다."
      ],
      "metadata": {
        "id": "RlTIhGhIkktz"
      }
    },
    {
      "cell_type": "markdown",
      "source": [
        "### 입출력 예"
      ],
      "metadata": {
        "id": "Ua9Xr8J3ksMt"
      }
    },
    {
      "cell_type": "markdown",
      "source": [
        "| progresses               | speeds             | return    |\n",
        "|--------------------------|--------------------|-----------|\n",
        "| [93, 30, 55]             | [1, 30, 5]         | [2, 1]    |\n",
        "| [95, 90, 99, 99, 80, 99] | [1, 1, 1, 1, 1, 1] | [1, 3, 2] |"
      ],
      "metadata": {
        "id": "zb2uT0NoksO1"
      }
    },
    {
      "cell_type": "markdown",
      "source": [
        "### 입출력 예 설명"
      ],
      "metadata": {
        "id": "BvSvJRI4ksRG"
      }
    },
    {
      "cell_type": "markdown",
      "source": [
        "입출력 예 #1  \n",
        "\n",
        "첫 번째 기능은 93% 완료되어 있고 하루에 1%씩 작업이 가능하므로 7일간 작업 후 배포가 가능합니다.  \n",
        "\n",
        "두 번째 기능은 30%가 완료되어 있고 하루에 30%씩 작업이 가능하므로 3일간 작업 후 배포가 가능합니다. 하지만 이전 첫 번째 기능이 아직 완성된 상태가 아니기 때문에 첫 번째 기능이 배포되는 7일째 배포됩니다.\n",
        "세 번째 기능은 55%가 완료되어 있고 하루에 5%씩 작업이 가능하므로 9일간 작업 후 배포가 가능합니다.\n",
        "\n",
        "따라서 7일째에 2개의 기능, 9일째에 1개의 기능이 배포됩니다."
      ],
      "metadata": {
        "id": "jyIAf73NksTj"
      }
    },
    {
      "cell_type": "markdown",
      "source": [
        "입출력 예 #2  \n",
        "\n",
        "모든 기능이 하루에 1%씩 작업이 가능하므로, 작업이 끝나기까지 남은 일수는 각각 5일, 10일, 1일, 1일, 20일, 1일입니다. 어떤 기능이 먼저 완성되었더라도 앞에 있는 모든 기능이 완성되지 않으면 배포가 불가능합니다.\n",
        "\n",
        "따라서 5일째에 1개의 기능, 10일째에 3개의 기능, 20일째에 2개의 기능이 배포됩니다."
      ],
      "metadata": {
        "id": "ADgxOc-mksWI"
      }
    },
    {
      "cell_type": "markdown",
      "source": [
        "---"
      ],
      "metadata": {
        "id": "V_z6SuZnkzpk"
      }
    },
    {
      "cell_type": "markdown",
      "source": [
        "DP의 대표적은 문제중 [가장 큰 부분 증가 수열](https://bo-oseng.github.io/algorithms/2022/02/20/boj-11055.html) 와 비슷하게 풀 수 있을것 같아 DP로 접근했다. "
      ],
      "metadata": {
        "id": "LEggTcxgk0Zb"
      }
    },
    {
      "cell_type": "markdown",
      "source": [
        "코드의 흐름은 다음과 같다.  \n",
        "1. 먼저 각 작업마다 배포에 걸리는 시간을 구해 finish에 저장한다.\n",
        "2. finish 배열을 앞에서 부터 차례로 스캔하는데 [가장 큰 부분 증가 수열](https://bo-oseng.github.io/algorithms/2022/02/20/boj-11055.html) 처럼 지금 스캔 중인 인덱스의 값과 현재 인덱스부터 배열의 끝까지 스캔하며 현재 인덱스의 값보자 작거나 같을 값이 나오면 cnt를 1씩 증가시키고, 큰 값이나오면 answer에 cnt값을 저장하고 이를 반복한다."
      ],
      "metadata": {
        "id": "Ann6Kr0omrNC"
      }
    },
    {
      "cell_type": "markdown",
      "source": [
        "예를들어 문제어서 예제로 주어진 경우를 살펴보자.  \n",
        "  \n",
        "  progresses = [95, 90, 99, 99, 80, 99]  \n",
        "  speeds = [1, 1, 1, 1, 1, 1]   \n",
        "  에서 작업이 완료되는데 걸리는 날짜를 구하면  \n",
        "  finish = [5, 10, 1, 1, 20, 1] 이 된다.\n",
        "    \n",
        "  finish를 처음부터 스캔한다. 현재 스캔중인 인덱스를 before라 하자. before는 0 <= before < n 를 만족하는 정수이다.\n",
        "  1. before = 0 일 때   \n",
        "    + finish[before] = 5 이고 before + 1 <= after < n을 만족하는 after에 대하여 5보다 큰 값을 발견할때 까지 스캔하며 cnt를 증가시킨다.  \n",
        "    + finish[1] = 10 으로 5보다 큰 10을 만나면 5를 배포하면서 스캔이 종료되므로 answer 에 cnt = 1을 저장한다. \n",
        "    + before에 배포가 완료된 만큼 cnt를 더하고 다음 반복을 진행한다. \n",
        "  2. before = 1 일 때\n",
        "   + finish[before] = 10 이고 before + 1 <= after < n을 만족하는 after에 대하여 5보다 큰 값을 발견할때 까지 스캔하며 cnt를 증가시킨다.  \n",
        "   + finish[2] = 1 이므로 cnt 를 1증가시키고 반복한다.\n",
        "   + finish[3] = 1 이므로 cnt 를 1증가시키고 반복한다.\n",
        "   + finish[4] = 20 으로 10보다 큰 20을 만나면 [10, 1, 1]를 배포하면서 스캔이 종료되므로 answer 에 cnt = 3을 저장한다.    \n",
        "   + before에 배포가 완료된 만큼 cnt를 더하고 다음 반복을 진행한다.  \n",
        "\n",
        "3. 위 과정을 모든 finishd의 원소에 대해 진행한다."
      ],
      "metadata": {
        "id": "u5xXctsGn67-"
      }
    },
    {
      "cell_type": "markdown",
      "source": [
        "이를 코드로 작성하면 다음과 같다."
      ],
      "metadata": {
        "id": "N8DTCeQqrC33"
      }
    },
    {
      "cell_type": "code",
      "source": [
        "def solution(progresses, speeds):\n",
        "    \n",
        "    finish = []\n",
        "    n = len(progresses)\n",
        "     \n",
        "     # 각 작업마다 완료되는데 걸리는 날짜를 finish에 저장한다.\n",
        "    for idx in range(n):\n",
        "        if (100 - progresses[idx]) % speeds[idx] == 0:\n",
        "            finish.append((100 - progresses[idx]) // speeds[idx])\n",
        "        else:\n",
        "            finish.append((100 - progresses[idx]) // speeds[idx] + 1)\n",
        "\n",
        "    answer = []\n",
        "\n",
        "     # finish의 모든 원소를 배포가 완료 될때 까지 반복한다.\n",
        "    before = 0\n",
        "    while before < n:\n",
        "        cnt = 1\n",
        "        after = before + 1\n",
        "         # 배포일이 더 많이 걸리는 원소가 나올때 까지 스캔\n",
        "        while after < n and finish[before] >= finish[after]:\n",
        "            cnt += 1\n",
        "            after += 1\n",
        "        answer.append(cnt)\n",
        "         # before에 배포가 끝난 작업의 수만큼 cnt를 더해줌\n",
        "        before += cnt\n",
        "    return answer\n",
        "\n",
        "\n",
        "print(solution([95, 90, 99, 99, 80, 99], [1, 1, 1, 1, 1, 1]))"
      ],
      "metadata": {
        "colab": {
          "base_uri": "https://localhost:8080/"
        },
        "id": "chMUDEb-k0s7",
        "outputId": "d2486cdf-0a23-4b05-a7aa-38e93d52fc72"
      },
      "execution_count": 1,
      "outputs": [
        {
          "output_type": "stream",
          "name": "stdout",
          "text": [
            "[1, 3, 2]\n"
          ]
        }
      ]
    }
  ]
}