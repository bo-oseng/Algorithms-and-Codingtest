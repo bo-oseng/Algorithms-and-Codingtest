{
  "nbformat": 4,
  "nbformat_minor": 0,
  "metadata": {
    "colab": {
      "name": "2022-05-06-programmers-43165.ipynb",
      "provenance": [],
      "collapsed_sections": []
    },
    "kernelspec": {
      "name": "python3",
      "display_name": "Python 3"
    },
    "language_info": {
      "name": "python"
    }
  },
  "cells": [
    {
      "cell_type": "markdown",
      "source": [
        "---\n",
        "layout: post\n",
        "\n",
        "title: Programmers, 백트레킹, '타겟넘버'\n",
        "\n",
        "category: Algorithms\n",
        "---"
      ],
      "metadata": {
        "id": "9HiaqjTJeATx"
      }
    },
    {
      "cell_type": "markdown",
      "source": [
        "# 프로그래머스 문제 중 43165번 '타겟넘버'\n",
        "<a href = 'https://programmers.co.kr/learn/courses/30/lessons/43165'>https://programmers.co.kr/learn/courses/30/lessons/43165</a>"
      ],
      "metadata": {
        "id": "2zRHFiP_eAWb"
      }
    },
    {
      "cell_type": "markdown",
      "source": [
        "### 문제설명"
      ],
      "metadata": {
        "id": "8slbEpM4eAZN"
      }
    },
    {
      "cell_type": "markdown",
      "source": [
        "n개의 음이 아닌 정수들이 있습니다. 이 정수들을 순서를 바꾸지 않고 적절히 더하거나 빼서 타겟 넘버를 만들려고 합니다. 예를 들어 [1, 1, 1, 1, 1]로 숫자 3을 만들려면 다음 다섯 방법을 쓸 수 있습니다."
      ],
      "metadata": {
        "id": "1kejBENVeAcE"
      }
    },
    {
      "cell_type": "markdown",
      "source": [
        "    -1+1+1+1+1 = 3\n",
        "    +1-1+1+1+1 = 3\n",
        "    +1+1-1+1+1 = 3\n",
        "    +1+1+1-1+1 = 3\n",
        "    +1+1+1+1-1 = 3"
      ],
      "metadata": {
        "id": "F_d3R3mIeAe5"
      }
    },
    {
      "cell_type": "markdown",
      "source": [
        "사용할 수 있는 숫자가 담긴 배열 numbers, 타겟 넘버 target이 매개변수로 주어질 때 숫자를 적절히 더하고 빼서 타겟 넘버를 만드는 방법의 수를 return 하도록 solution 함수를 작성해주세요."
      ],
      "metadata": {
        "id": "7EeEHn3teAhx"
      }
    },
    {
      "cell_type": "markdown",
      "source": [
        "### 제한사항"
      ],
      "metadata": {
        "id": "eMty-4nneAkf"
      }
    },
    {
      "cell_type": "markdown",
      "source": [
        "+ 주어지는 숫자의 개수는 2개 이상 20개 이하입니다.\n",
        "+ 각 숫자는 1 이상 50 이하인 자연수입니다.\n",
        "+ 타겟 넘버는 1 이상 1000 이하인 자연수입니다."
      ],
      "metadata": {
        "id": "YAkcmVNFeAnP"
      }
    },
    {
      "cell_type": "markdown",
      "source": [
        "### 입출력 예"
      ],
      "metadata": {
        "id": "WllC2mz2efX-"
      }
    },
    {
      "cell_type": "markdown",
      "source": [
        "\n",
        "| numbers         | target | return |\n",
        "|-----------------|--------|--------|\n",
        "| [1, 1, 1, 1, 1] | 3      | 5      |\n",
        "| [4, 1, 2, 1]    | 4      | 2      |"
      ],
      "metadata": {
        "id": "wiBR9Ul3eidE"
      }
    },
    {
      "cell_type": "markdown",
      "source": [
        "### 입출력 예 설명"
      ],
      "metadata": {
        "id": "jsDPr2Iseiff"
      }
    },
    {
      "cell_type": "markdown",
      "source": [
        "**입출력 예 #1**\n",
        "\n",
        "문제 예시와 같습니다."
      ],
      "metadata": {
        "id": "Qo5TzsfMeiht"
      }
    },
    {
      "cell_type": "markdown",
      "source": [
        "입출력 예 #2\n",
        "\n",
        "    +4+1-2+1 = 4\n",
        "    +4-1+2-1 = 4\n",
        "+ 총 2가지 방법이 있으므로, 2를 return 합니다."
      ],
      "metadata": {
        "id": "RHCVqNZ7eikK"
      }
    },
    {
      "cell_type": "markdown",
      "source": [
        "---"
      ],
      "metadata": {
        "id": "Lyj6PSh6e7Kv"
      }
    },
    {
      "cell_type": "markdown",
      "source": [
        "가능한 모든 경우를 탐색하며 target와 같다면 탐색을 종료하는 백트래킹 문제이다. 주어지는 입력 number의 원소의 개수와 가질 수 있는 부호의 개수가 같다.  \n",
        "단 이 문제에서 주의 해야 할 부분은 target을 만족하는 경우의 순서는 고려하지 않으므로 조합인 combinations을 고려해야한다."
      ],
      "metadata": {
        "id": "TaUS4IfBe7Nl"
      }
    },
    {
      "cell_type": "markdown",
      "source": [
        "간단하게 itertools 모듈의 combinations을 쓰는게 동작도 가장 빠르고 간단하지만 실전에 대비해 직접 조합을 구하는 dfs를 구현 해보았다. dfs로 구현하는 조합은 이전에 다뤄봤던 [N과 M 2](https://bo-oseng.github.io/algorithms/2022/03/05/boj-15650.html)을 조금 수정했다."
      ],
      "metadata": {
        "id": "P9pKRsXhfejD"
      }
    },
    {
      "cell_type": "markdown",
      "source": [
        "[1, 2, 3, 4] 중 2개를 뽑는 조합을 구한다고 해보자. 그러면 보통 다음과 같이 경우를 따진다.  \n",
        "  + 1로 시작하는 경우\n",
        "    + [1, 2]\n",
        "    + [1, 3]\n",
        "    + [1, 4]\n",
        "  + 2로 시작하는 경우\n",
        "    + [2, 3]\n",
        "    + [2, 4]\n",
        "  + 3으로 시작하는 경우\n",
        "    + [3, 4]\n",
        "\n",
        "이 과정을 [] 를 부모노드로 갖고, [1, 2, 3, 4]를 자식노드로 하며, 방문하는 순서를 고려하지 않는 탐색을 한다고 생각 할 수 있다.    \n",
        "\n",
        "  이를 코드로 구현하면 다음과 같다.\n"
      ],
      "metadata": {
        "id": "xRsoDPrOgPW4"
      }
    },
    {
      "cell_type": "code",
      "source": [
        "def solution(numbers, target):\n",
        "    n = len(numbers)\n",
        "    cnt = 0\n",
        "\n",
        "     # 방문여부 확인을 위한 배열 선언\n",
        "    visited = [False] * n\n",
        "\n",
        "    def dfs(depth, idx):\n",
        "\n",
        "        nonlocal cnt\n",
        "\n",
        "         # depth가 n과 같다면 탐색 종료\n",
        "        if depth == n:\n",
        "            return\n",
        "\n",
        "         # 지금까지 탐색 중 numbers의 합이 target 과 같다면 cnt를 증가시키고 탐색 종료\n",
        "        if sum(numbers) == target:\n",
        "            print(numbers)\n",
        "            cnt += 1\n",
        "            return\n",
        "\n",
        "         # 입력받은 idx 부터 n까지 재귀적으로 dfs 진행\n",
        "        for i in range(idx, n):\n",
        "            if not visited[i]:\n",
        "                visited[i] = True\n",
        "                 # 탐색한 인덱스의 numbers 값의 부호를 -1로 바꿔줌\n",
        "                numbers[i] *= -1\n",
        "                dfs(depth + 1, i + 1)\n",
        "                visited[i] = False\n",
        "                numbers[i] *= -1\n",
        "    dfs(0, 0)\n",
        "    return cnt\n",
        "\n",
        "solution([4, 1, 2, 1], 4)"
      ],
      "metadata": {
        "colab": {
          "base_uri": "https://localhost:8080/"
        },
        "id": "DDXj3D_Ke8LQ",
        "outputId": "5b733806-83d9-4c36-ef3e-8b6bae670e48"
      },
      "execution_count": 1,
      "outputs": [
        {
          "output_type": "stream",
          "name": "stdout",
          "text": [
            "[4, -1, 2, -1]\n",
            "[4, 1, -2, 1]\n"
          ]
        },
        {
          "output_type": "execute_result",
          "data": {
            "text/plain": [
              "2"
            ]
          },
          "metadata": {},
          "execution_count": 1
        }
      ]
    }
  ]
}