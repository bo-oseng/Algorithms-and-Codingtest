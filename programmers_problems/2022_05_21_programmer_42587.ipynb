{
  "nbformat": 4,
  "nbformat_minor": 0,
  "metadata": {
    "colab": {
      "name": "2002-05-21-programmer-42587.ipynb",
      "provenance": [],
      "collapsed_sections": []
    },
    "kernelspec": {
      "name": "python3",
      "display_name": "Python 3"
    },
    "language_info": {
      "name": "python"
    }
  },
  "cells": [
    {
      "cell_type": "markdown",
      "source": [
        "---\n",
        "layout: post\n",
        "\n",
        "title: Programmers, 코딩테스트 연습, 스택/큐,  '프린터'\n",
        "\n",
        "category: Algorithms\n",
        "---"
      ],
      "metadata": {
        "id": "oon7zsbdjbXQ"
      }
    },
    {
      "cell_type": "markdown",
      "source": [
        "# 프로그래머스 문제 중 42587번 '프린터'\n",
        "<a href = 'https://programmers.co.kr/learn/courses/30/lessons/42587'>https://programmers.co.kr/learn/courses/30/lessons/42587</a>"
      ],
      "metadata": {
        "id": "ZzOx8s4jjbZZ"
      }
    },
    {
      "cell_type": "markdown",
      "source": [
        "### 문제설명"
      ],
      "metadata": {
        "id": "zGnJMi_Xjna_"
      }
    },
    {
      "cell_type": "markdown",
      "source": [
        "일반적인 프린터는 인쇄 요청이 들어온 순서대로 인쇄합니다. 그렇기 때문에 중요한 문서가 나중에 인쇄될 수 있습니다. 이런 문제를 보완하기 위해 중요도가 높은 문서를 먼저 인쇄하는 프린터를 개발했습니다. 이 새롭게 개발한 프린터는 아래와 같은 방식으로 인쇄 작업을 수행합니다."
      ],
      "metadata": {
        "id": "TtIBKMqyjndK"
      }
    },
    {
      "cell_type": "markdown",
      "source": [
        "    1. 인쇄 대기목록의 가장 앞에 있는 문서(J)를 대기목록에서 꺼냅니다.\n",
        "    2. 나머지 인쇄 대기목록에서 J보다 중요도가 높은 문서가 한 개라도 존재하면 J를 대기목록의 가장 마지막에 넣습니다.\n",
        "    3. 그렇지 않으면 J를 인쇄합니다."
      ],
      "metadata": {
        "id": "IC31qR04jnfO"
      }
    },
    {
      "cell_type": "markdown",
      "source": [
        "예를 들어, 4개의 문서(A, B, C, D)가 순서대로 인쇄 대기목록에 있고 중요도가 2 1 3 2 라면 C D A B 순으로 인쇄하게 됩니다.\n",
        "\n",
        "내가 인쇄를 요청한 문서가 몇 번째로 인쇄되는지 알고 싶습니다. 위의 예에서 C는 1번째로, A는 3번째로 인쇄됩니다.\n",
        "\n",
        "현재 대기목록에 있는 문서의 중요도가 순서대로 담긴 배열 priorities와 내가 인쇄를 요청한 문서가 현재 대기목록의 어떤 위치에 있는지를 알려주는 location이 매개변수로 주어질 때, 내가 인쇄를 요청한 문서가 몇 번째로 인쇄되는지 return 하도록 solution 함수를 작성해주세요."
      ],
      "metadata": {
        "id": "V1WSiAdXjnhX"
      }
    },
    {
      "cell_type": "markdown",
      "source": [
        "### 제한사항"
      ],
      "metadata": {
        "id": "-Os2x165jnjj"
      }
    },
    {
      "cell_type": "markdown",
      "source": [
        "+ 현재 대기목록에는 1개 이상 100개 이하의 문서가 있습니다.\n",
        "+ 인쇄 작업의 중요도는 1~9로 표현하며 숫자가 클수록 중요하다는 뜻입니다.\n",
        "+ location은 0 이상 (현재 대기목록에 있는 작업 수 - 1) 이하의 값을 가지며 대기목록의 가장 앞에 있으면 0, 두 번째에 있으면 1로 표현합니다."
      ],
      "metadata": {
        "id": "-jwzG9lijnl5"
      }
    },
    {
      "cell_type": "markdown",
      "source": [
        "### 입출력 예"
      ],
      "metadata": {
        "id": "i6DdM1izjnoK"
      }
    },
    {
      "cell_type": "markdown",
      "source": [
        "|priorities |location |return |\n",
        "|-|-|-|\n",
        "|[2, 1, 3, 2] |\t2 |1 |\n",
        "|[1, 1, 9, 1, 1, 1]\t |0 |5 |"
      ],
      "metadata": {
        "id": "kytkRrt1jnqW"
      }
    },
    {
      "cell_type": "markdown",
      "source": [
        "#### 입출력 예 설명\n"
      ],
      "metadata": {
        "id": "1PVCZygCjnss"
      }
    },
    {
      "cell_type": "markdown",
      "source": [
        "##### 예제 #1\n",
        "\n",
        "문제에 나온 예와 같습니다.\n"
      ],
      "metadata": {
        "id": "gJmTEptSjnu9"
      }
    },
    {
      "cell_type": "markdown",
      "source": [
        "##### 예제 #2\n",
        "\n",
        "6개의 문서(A, B, C, D, E, F)가 인쇄 대기목록에 있고 중요도가 1 1 9 1 1 1 이므로 C D E F A B 순으로 인쇄합니다."
      ],
      "metadata": {
        "id": "G_ApZ92YjnxT"
      }
    },
    {
      "cell_type": "markdown",
      "source": [
        "---"
      ],
      "metadata": {
        "id": "VIv68zjDjnzf"
      }
    },
    {
      "cell_type": "markdown",
      "source": [
        "코드의 흐름은 다음과 같다.\n",
        "1. 입력으로 주어진 priorities를 큐로 이용하기위해 dequqe q를 선언하고, 인덱스를 사용하기 위해 enumerate 메소드를 활용한다.\n",
        "2. 큐가 모두 비거나, location과 같은 인덱스를 만났때 까지 cnt를 1씩 증가시키며 탐색을 반복한다. 이때 cnt는 출력된 횟수를 나타낸다."
      ],
      "metadata": {
        "id": "3p4t2p7KkJZ7"
      }
    },
    {
      "cell_type": "code",
      "source": [
        "from collections import deque\n",
        "\n",
        "\n",
        "def solution(priorities, location):\n",
        "     # 길이가 1인 priorities가 주어졌을때 조기종료\n",
        "    if len(priorities) == 1:\n",
        "        return 1\n",
        "\n",
        "    q = deque()\n",
        "    for idx, priority in enumerate(priorities):\n",
        "        q.append((priority, idx))\n",
        "\n",
        "    cnt = 0\n",
        "    while q:\n",
        "        print(q)\n",
        "        tmp, i = q.popleft()\n",
        "         # q가 모두 비었다면 출력이 모두 종료 됐으므로 cnt +=1을 한뒤 return\n",
        "         # i == location을 만났다면 cnt +=1을 한뒤 return\n",
        "        if tmp >= (max(q)[0] if q else 0):\n",
        "            cnt += 1\n",
        "            if i == location:\n",
        "                return cnt\n",
        "        else:\n",
        "            q.append((tmp, i))\n",
        "    return -1\n",
        "\n",
        "solution([1, 1, 9, 1, 1, 1], 0)"
      ],
      "metadata": {
        "colab": {
          "base_uri": "https://localhost:8080/"
        },
        "id": "O6OteiFbkJtQ",
        "outputId": "c283e834-6fc9-431d-ed48-605de220fa91"
      },
      "execution_count": 1,
      "outputs": [
        {
          "output_type": "stream",
          "name": "stdout",
          "text": [
            "deque([(1, 0), (1, 1), (9, 2), (1, 3), (1, 4), (1, 5)])\n",
            "deque([(1, 1), (9, 2), (1, 3), (1, 4), (1, 5), (1, 0)])\n",
            "deque([(9, 2), (1, 3), (1, 4), (1, 5), (1, 0), (1, 1)])\n",
            "deque([(1, 3), (1, 4), (1, 5), (1, 0), (1, 1)])\n",
            "deque([(1, 4), (1, 5), (1, 0), (1, 1)])\n",
            "deque([(1, 5), (1, 0), (1, 1)])\n",
            "deque([(1, 0), (1, 1)])\n"
          ]
        },
        {
          "output_type": "execute_result",
          "data": {
            "text/plain": [
              "5"
            ]
          },
          "metadata": {},
          "execution_count": 1
        }
      ]
    }
  ]
}
