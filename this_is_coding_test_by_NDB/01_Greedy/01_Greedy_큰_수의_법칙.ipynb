{
  "nbformat": 4,
  "nbformat_minor": 0,
  "metadata": {
    "colab": {
      "name": "01_Greedy_큰 수의 법칙.ipynb",
      "provenance": [],
      "collapsed_sections": []
    },
    "kernelspec": {
      "name": "python3",
      "display_name": "Python 3"
    },
    "language_info": {
      "name": "python"
    }
  },
  "cells": [
    {
      "cell_type": "markdown",
      "source": [
        "### 나의 코드"
      ],
      "metadata": {
        "id": "ToJA8aIOx4kL"
      }
    },
    {
      "cell_type": "code",
      "execution_count": 16,
      "metadata": {
        "colab": {
          "base_uri": "https://localhost:8080/"
        },
        "id": "gmhDQ2IxtJN6",
        "outputId": "497ad288-891c-4362-8753-b04b19c7973d"
      },
      "outputs": [
        {
          "output_type": "stream",
          "name": "stdout",
          "text": [
            "5 7 2\n",
            "3 4 3 4 3\n",
            "28\n"
          ]
        }
      ],
      "source": [
        "n, m, k = map(int, input().split())\n",
        "nums = list(map(int, input().split()))\n",
        " # 그리디한 문제로 가장 큰 수와 두번째로 큰 수가 필요하기 이를 위해 정렬을 했다.\n",
        "nums.sort()\n",
        "\n",
        "ans = 0\n",
        "\n",
        "i = 0\n",
        "while True:\n",
        "    j = 0\n",
        "     # 가장큰수를 k번 더하는데, 이 때 인덱스가 m보다 커지면 종료한다.\n",
        "    while j < k and i < m:\n",
        "        ans += nums[n - 1]\n",
        "        j += 1\n",
        "        i += 1\n",
        "     # while문을 빠져 나온뒤 인덱스 범위를 벗어나면 종료한다.\n",
        "    if i >= m:\n",
        "        break\n",
        "     # 제일 큰수가 k번 만큼 나온뒤에는 반드시 두번째 큰수를 더해야 한다.\n",
        "    ans += nums[n - 2]\n",
        "    i += 1\n",
        "print(ans)"
      ]
    },
    {
      "cell_type": "markdown",
      "source": [
        "### 책의 소스코드"
      ],
      "metadata": {
        "id": "1M4VtBgLyt4B"
      }
    },
    {
      "cell_type": "markdown",
      "source": [
        "1. 단순하게 푸는 답안"
      ],
      "metadata": {
        "id": "ezlZo4sdyt6v"
      }
    },
    {
      "cell_type": "code",
      "source": [
        "n, m, k = map(int, input().split())\n",
        "data = list(map(int, input().split()))\n",
        "data.sort()\n",
        "\n",
        "first = data[n - 1]\n",
        "second = data[n - 2]\n",
        "\n",
        "result = 0\n",
        "\n",
        "while True:\n",
        "    for i in range(k):\n",
        "        if m == 0:\n",
        "            break\n",
        "        result += first\n",
        "        m -= 1\n",
        "    if m == 0:\n",
        "        break\n",
        "    result += second\n",
        "    m -= 1\n",
        "\n",
        "print(result)"
      ],
      "metadata": {
        "id": "wORCh7Ody7JZ"
      },
      "execution_count": null,
      "outputs": []
    },
    {
      "cell_type": "markdown",
      "source": [
        "나의 코드와 알고리즘 적으로는 거의 다른 부분이 없고, 두번째  while문 부분을 책에서는 for문으로 구현했다. 그리고 내가 while의 조건문에 m까지 포함하여 반복을 한거에 비해 책에서는 m자체를 1씩 줄여나가며 m이 0이 될 때까지 반복을했다.  \n",
        "  \n",
        "  내가 구현한것보다는 m을 1씩 줄여나가는게 코드의 가독성 측면에서 더 좋은 것 같다."
      ],
      "metadata": {
        "id": "vqwY6Yslzqol"
      }
    },
    {
      "cell_type": "markdown",
      "source": [
        "2. 입력이 엄청나게 커질 경우까지 고려한 코드."
      ],
      "metadata": {
        "id": "U99PKqg80TeB"
      }
    },
    {
      "cell_type": "code",
      "source": [
        "n, m, k = map(int, input().split())\n",
        "data = list(map(int, input().split()))\n",
        "\n",
        "data.sort()\n",
        "first = data[n - 1]\n",
        "second = data[n - 2]\n",
        "\n",
        "count = int(m / (k + 1)) * k\n",
        "count += m % (k + 1)\n",
        "\n",
        "result = 0\n",
        "result += (count) * first\n",
        "result += (m - count) * second"
      ],
      "metadata": {
        "id": "M4F-UnMF0pqe"
      },
      "execution_count": null,
      "outputs": []
    },
    {
      "cell_type": "markdown",
      "source": [
        "가장 best의 코드로 m의 크기가 100억 이상으로 커지더라도 시간 제한인 1초에 걸리지 않는다."
      ],
      "metadata": {
        "id": "N8UcLfgr0TgT"
      }
    },
    {
      "cell_type": "markdown",
      "source": [
        "약간의 수학적인 사고가 필요하다. 이 문제는 가장큰수인 first와 두번째로 큰수인 second가 번갈아 나오는 경우 최대가 된다. 다시 말하면 first가 k번 second가 1번으로 이루어진 수열이 반복되면 m을 k+1 로 나눈 몫만큼 반복되고, m 에서 m을 k + 1 로 나눈 몫에 (k + 1) 을 곱한값을 뺀 만큼 second가 나올것이다. 이를 코드로 표현한게 위의 코드이다."
      ],
      "metadata": {
        "id": "B2ERx0KE1ku1"
      }
    }
  ]
}